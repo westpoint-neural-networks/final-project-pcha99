{
  "nbformat": 4,
  "nbformat_minor": 0,
  "metadata": {
    "colab": {
      "name": "project.ipynb",
      "provenance": [],
      "collapsed_sections": [
        "TykOYW12Scp0",
        "uhnHUqFCGkmk",
        "apzSkU4tDsWV"
      ],
      "toc_visible": true
    },
    "kernelspec": {
      "name": "python3",
      "display_name": "Python 3"
    },
    "accelerator": "GPU",
    "widgets": {
      "application/vnd.jupyter.widget-state+json": {
        "124c47f62c6b4bc1a5bb1c7b7ea4d9c5": {
          "model_module": "@jupyter-widgets/controls",
          "model_name": "HBoxModel",
          "state": {
            "_view_name": "HBoxView",
            "_dom_classes": [],
            "_model_name": "HBoxModel",
            "_view_module": "@jupyter-widgets/controls",
            "_model_module_version": "1.5.0",
            "_view_count": null,
            "_view_module_version": "1.5.0",
            "box_style": "",
            "layout": "IPY_MODEL_adbc5ae4b8d145c6b5f3b683ec405929",
            "_model_module": "@jupyter-widgets/controls",
            "children": [
              "IPY_MODEL_9d46f5aa84b248249592efcb4bf2878d",
              "IPY_MODEL_5ee2f02b57a24699bd5bb18b7f6ed9b9"
            ]
          }
        },
        "adbc5ae4b8d145c6b5f3b683ec405929": {
          "model_module": "@jupyter-widgets/base",
          "model_name": "LayoutModel",
          "state": {
            "_view_name": "LayoutView",
            "grid_template_rows": null,
            "right": null,
            "justify_content": null,
            "_view_module": "@jupyter-widgets/base",
            "overflow": null,
            "_model_module_version": "1.2.0",
            "_view_count": null,
            "flex_flow": null,
            "width": null,
            "min_width": null,
            "border": null,
            "align_items": null,
            "bottom": null,
            "_model_module": "@jupyter-widgets/base",
            "top": null,
            "grid_column": null,
            "overflow_y": null,
            "overflow_x": null,
            "grid_auto_flow": null,
            "grid_area": null,
            "grid_template_columns": null,
            "flex": null,
            "_model_name": "LayoutModel",
            "justify_items": null,
            "grid_row": null,
            "max_height": null,
            "align_content": null,
            "visibility": null,
            "align_self": null,
            "height": null,
            "min_height": null,
            "padding": null,
            "grid_auto_rows": null,
            "grid_gap": null,
            "max_width": null,
            "order": null,
            "_view_module_version": "1.2.0",
            "grid_template_areas": null,
            "object_position": null,
            "object_fit": null,
            "grid_auto_columns": null,
            "margin": null,
            "display": null,
            "left": null
          }
        },
        "9d46f5aa84b248249592efcb4bf2878d": {
          "model_module": "@jupyter-widgets/controls",
          "model_name": "IntProgressModel",
          "state": {
            "_view_name": "ProgressView",
            "style": "IPY_MODEL_da847291d9e54ee19108f8c2eadc30aa",
            "_dom_classes": [],
            "description": "Downloading: 100%",
            "_model_name": "IntProgressModel",
            "bar_style": "success",
            "max": 109540,
            "_view_module": "@jupyter-widgets/controls",
            "_model_module_version": "1.5.0",
            "value": 109540,
            "_view_count": null,
            "_view_module_version": "1.5.0",
            "orientation": "horizontal",
            "min": 0,
            "description_tooltip": null,
            "_model_module": "@jupyter-widgets/controls",
            "layout": "IPY_MODEL_b7ffac95276f476c8ca85942b6b2da2a"
          }
        },
        "5ee2f02b57a24699bd5bb18b7f6ed9b9": {
          "model_module": "@jupyter-widgets/controls",
          "model_name": "HTMLModel",
          "state": {
            "_view_name": "HTMLView",
            "style": "IPY_MODEL_7a8972fee6ad446e99dd6461bee87eb6",
            "_dom_classes": [],
            "description": "",
            "_model_name": "HTMLModel",
            "placeholder": "​",
            "_view_module": "@jupyter-widgets/controls",
            "_model_module_version": "1.5.0",
            "value": " 110k/110k [00:00&lt;00:00, 516kB/s]",
            "_view_count": null,
            "_view_module_version": "1.5.0",
            "description_tooltip": null,
            "_model_module": "@jupyter-widgets/controls",
            "layout": "IPY_MODEL_d800b9bbe7b54bfe83f2ef0b1add23e7"
          }
        },
        "da847291d9e54ee19108f8c2eadc30aa": {
          "model_module": "@jupyter-widgets/controls",
          "model_name": "ProgressStyleModel",
          "state": {
            "_view_name": "StyleView",
            "_model_name": "ProgressStyleModel",
            "description_width": "initial",
            "_view_module": "@jupyter-widgets/base",
            "_model_module_version": "1.5.0",
            "_view_count": null,
            "_view_module_version": "1.2.0",
            "bar_color": null,
            "_model_module": "@jupyter-widgets/controls"
          }
        },
        "b7ffac95276f476c8ca85942b6b2da2a": {
          "model_module": "@jupyter-widgets/base",
          "model_name": "LayoutModel",
          "state": {
            "_view_name": "LayoutView",
            "grid_template_rows": null,
            "right": null,
            "justify_content": null,
            "_view_module": "@jupyter-widgets/base",
            "overflow": null,
            "_model_module_version": "1.2.0",
            "_view_count": null,
            "flex_flow": null,
            "width": null,
            "min_width": null,
            "border": null,
            "align_items": null,
            "bottom": null,
            "_model_module": "@jupyter-widgets/base",
            "top": null,
            "grid_column": null,
            "overflow_y": null,
            "overflow_x": null,
            "grid_auto_flow": null,
            "grid_area": null,
            "grid_template_columns": null,
            "flex": null,
            "_model_name": "LayoutModel",
            "justify_items": null,
            "grid_row": null,
            "max_height": null,
            "align_content": null,
            "visibility": null,
            "align_self": null,
            "height": null,
            "min_height": null,
            "padding": null,
            "grid_auto_rows": null,
            "grid_gap": null,
            "max_width": null,
            "order": null,
            "_view_module_version": "1.2.0",
            "grid_template_areas": null,
            "object_position": null,
            "object_fit": null,
            "grid_auto_columns": null,
            "margin": null,
            "display": null,
            "left": null
          }
        },
        "7a8972fee6ad446e99dd6461bee87eb6": {
          "model_module": "@jupyter-widgets/controls",
          "model_name": "DescriptionStyleModel",
          "state": {
            "_view_name": "StyleView",
            "_model_name": "DescriptionStyleModel",
            "description_width": "",
            "_view_module": "@jupyter-widgets/base",
            "_model_module_version": "1.5.0",
            "_view_count": null,
            "_view_module_version": "1.2.0",
            "_model_module": "@jupyter-widgets/controls"
          }
        },
        "d800b9bbe7b54bfe83f2ef0b1add23e7": {
          "model_module": "@jupyter-widgets/base",
          "model_name": "LayoutModel",
          "state": {
            "_view_name": "LayoutView",
            "grid_template_rows": null,
            "right": null,
            "justify_content": null,
            "_view_module": "@jupyter-widgets/base",
            "overflow": null,
            "_model_module_version": "1.2.0",
            "_view_count": null,
            "flex_flow": null,
            "width": null,
            "min_width": null,
            "border": null,
            "align_items": null,
            "bottom": null,
            "_model_module": "@jupyter-widgets/base",
            "top": null,
            "grid_column": null,
            "overflow_y": null,
            "overflow_x": null,
            "grid_auto_flow": null,
            "grid_area": null,
            "grid_template_columns": null,
            "flex": null,
            "_model_name": "LayoutModel",
            "justify_items": null,
            "grid_row": null,
            "max_height": null,
            "align_content": null,
            "visibility": null,
            "align_self": null,
            "height": null,
            "min_height": null,
            "padding": null,
            "grid_auto_rows": null,
            "grid_gap": null,
            "max_width": null,
            "order": null,
            "_view_module_version": "1.2.0",
            "grid_template_areas": null,
            "object_position": null,
            "object_fit": null,
            "grid_auto_columns": null,
            "margin": null,
            "display": null,
            "left": null
          }
        },
        "d2bb75d3c87c42eca7bceae2d4605b04": {
          "model_module": "@jupyter-widgets/controls",
          "model_name": "HBoxModel",
          "state": {
            "_view_name": "HBoxView",
            "_dom_classes": [],
            "_model_name": "HBoxModel",
            "_view_module": "@jupyter-widgets/controls",
            "_model_module_version": "1.5.0",
            "_view_count": null,
            "_view_module_version": "1.5.0",
            "box_style": "",
            "layout": "IPY_MODEL_546998657cd5497986add184899a1bf3",
            "_model_module": "@jupyter-widgets/controls",
            "children": [
              "IPY_MODEL_607976679c4040ec93359a991f8cb6bf",
              "IPY_MODEL_24751507b9d942d484484c989dcb991b"
            ]
          }
        },
        "546998657cd5497986add184899a1bf3": {
          "model_module": "@jupyter-widgets/base",
          "model_name": "LayoutModel",
          "state": {
            "_view_name": "LayoutView",
            "grid_template_rows": null,
            "right": null,
            "justify_content": null,
            "_view_module": "@jupyter-widgets/base",
            "overflow": null,
            "_model_module_version": "1.2.0",
            "_view_count": null,
            "flex_flow": null,
            "width": null,
            "min_width": null,
            "border": null,
            "align_items": null,
            "bottom": null,
            "_model_module": "@jupyter-widgets/base",
            "top": null,
            "grid_column": null,
            "overflow_y": null,
            "overflow_x": null,
            "grid_auto_flow": null,
            "grid_area": null,
            "grid_template_columns": null,
            "flex": null,
            "_model_name": "LayoutModel",
            "justify_items": null,
            "grid_row": null,
            "max_height": null,
            "align_content": null,
            "visibility": null,
            "align_self": null,
            "height": null,
            "min_height": null,
            "padding": null,
            "grid_auto_rows": null,
            "grid_gap": null,
            "max_width": null,
            "order": null,
            "_view_module_version": "1.2.0",
            "grid_template_areas": null,
            "object_position": null,
            "object_fit": null,
            "grid_auto_columns": null,
            "margin": null,
            "display": null,
            "left": null
          }
        },
        "607976679c4040ec93359a991f8cb6bf": {
          "model_module": "@jupyter-widgets/controls",
          "model_name": "IntProgressModel",
          "state": {
            "_view_name": "ProgressView",
            "style": "IPY_MODEL_40431624b5cb47f7944619dc4b472d89",
            "_dom_classes": [],
            "description": "Downloading: 100%",
            "_model_name": "IntProgressModel",
            "bar_style": "success",
            "max": 624,
            "_view_module": "@jupyter-widgets/controls",
            "_model_module_version": "1.5.0",
            "value": 624,
            "_view_count": null,
            "_view_module_version": "1.5.0",
            "orientation": "horizontal",
            "min": 0,
            "description_tooltip": null,
            "_model_module": "@jupyter-widgets/controls",
            "layout": "IPY_MODEL_e34522dc62ca413fb0c532dd2e742b97"
          }
        },
        "24751507b9d942d484484c989dcb991b": {
          "model_module": "@jupyter-widgets/controls",
          "model_name": "HTMLModel",
          "state": {
            "_view_name": "HTMLView",
            "style": "IPY_MODEL_6c0bffcd628b4ff28316a7728a68ac3d",
            "_dom_classes": [],
            "description": "",
            "_model_name": "HTMLModel",
            "placeholder": "​",
            "_view_module": "@jupyter-widgets/controls",
            "_model_module_version": "1.5.0",
            "value": " 624/624 [00:00&lt;00:00, 13.3kB/s]",
            "_view_count": null,
            "_view_module_version": "1.5.0",
            "description_tooltip": null,
            "_model_module": "@jupyter-widgets/controls",
            "layout": "IPY_MODEL_b30c94f9a32d40089599b0988195bb7d"
          }
        },
        "40431624b5cb47f7944619dc4b472d89": {
          "model_module": "@jupyter-widgets/controls",
          "model_name": "ProgressStyleModel",
          "state": {
            "_view_name": "StyleView",
            "_model_name": "ProgressStyleModel",
            "description_width": "initial",
            "_view_module": "@jupyter-widgets/base",
            "_model_module_version": "1.5.0",
            "_view_count": null,
            "_view_module_version": "1.2.0",
            "bar_color": null,
            "_model_module": "@jupyter-widgets/controls"
          }
        },
        "e34522dc62ca413fb0c532dd2e742b97": {
          "model_module": "@jupyter-widgets/base",
          "model_name": "LayoutModel",
          "state": {
            "_view_name": "LayoutView",
            "grid_template_rows": null,
            "right": null,
            "justify_content": null,
            "_view_module": "@jupyter-widgets/base",
            "overflow": null,
            "_model_module_version": "1.2.0",
            "_view_count": null,
            "flex_flow": null,
            "width": null,
            "min_width": null,
            "border": null,
            "align_items": null,
            "bottom": null,
            "_model_module": "@jupyter-widgets/base",
            "top": null,
            "grid_column": null,
            "overflow_y": null,
            "overflow_x": null,
            "grid_auto_flow": null,
            "grid_area": null,
            "grid_template_columns": null,
            "flex": null,
            "_model_name": "LayoutModel",
            "justify_items": null,
            "grid_row": null,
            "max_height": null,
            "align_content": null,
            "visibility": null,
            "align_self": null,
            "height": null,
            "min_height": null,
            "padding": null,
            "grid_auto_rows": null,
            "grid_gap": null,
            "max_width": null,
            "order": null,
            "_view_module_version": "1.2.0",
            "grid_template_areas": null,
            "object_position": null,
            "object_fit": null,
            "grid_auto_columns": null,
            "margin": null,
            "display": null,
            "left": null
          }
        },
        "6c0bffcd628b4ff28316a7728a68ac3d": {
          "model_module": "@jupyter-widgets/controls",
          "model_name": "DescriptionStyleModel",
          "state": {
            "_view_name": "StyleView",
            "_model_name": "DescriptionStyleModel",
            "description_width": "",
            "_view_module": "@jupyter-widgets/base",
            "_model_module_version": "1.5.0",
            "_view_count": null,
            "_view_module_version": "1.2.0",
            "_model_module": "@jupyter-widgets/controls"
          }
        },
        "b30c94f9a32d40089599b0988195bb7d": {
          "model_module": "@jupyter-widgets/base",
          "model_name": "LayoutModel",
          "state": {
            "_view_name": "LayoutView",
            "grid_template_rows": null,
            "right": null,
            "justify_content": null,
            "_view_module": "@jupyter-widgets/base",
            "overflow": null,
            "_model_module_version": "1.2.0",
            "_view_count": null,
            "flex_flow": null,
            "width": null,
            "min_width": null,
            "border": null,
            "align_items": null,
            "bottom": null,
            "_model_module": "@jupyter-widgets/base",
            "top": null,
            "grid_column": null,
            "overflow_y": null,
            "overflow_x": null,
            "grid_auto_flow": null,
            "grid_area": null,
            "grid_template_columns": null,
            "flex": null,
            "_model_name": "LayoutModel",
            "justify_items": null,
            "grid_row": null,
            "max_height": null,
            "align_content": null,
            "visibility": null,
            "align_self": null,
            "height": null,
            "min_height": null,
            "padding": null,
            "grid_auto_rows": null,
            "grid_gap": null,
            "max_width": null,
            "order": null,
            "_view_module_version": "1.2.0",
            "grid_template_areas": null,
            "object_position": null,
            "object_fit": null,
            "grid_auto_columns": null,
            "margin": null,
            "display": null,
            "left": null
          }
        },
        "ccb2c00bb1c8474487b411391c64e0fe": {
          "model_module": "@jupyter-widgets/controls",
          "model_name": "HBoxModel",
          "state": {
            "_view_name": "HBoxView",
            "_dom_classes": [],
            "_model_name": "HBoxModel",
            "_view_module": "@jupyter-widgets/controls",
            "_model_module_version": "1.5.0",
            "_view_count": null,
            "_view_module_version": "1.5.0",
            "box_style": "",
            "layout": "IPY_MODEL_f4fce6201fbc4905a3636d0bcc0b548a",
            "_model_module": "@jupyter-widgets/controls",
            "children": [
              "IPY_MODEL_a967a91c691347699a080c524666c1f4",
              "IPY_MODEL_660903d7ba9f41bc8306c82154e1fa0f"
            ]
          }
        },
        "f4fce6201fbc4905a3636d0bcc0b548a": {
          "model_module": "@jupyter-widgets/base",
          "model_name": "LayoutModel",
          "state": {
            "_view_name": "LayoutView",
            "grid_template_rows": null,
            "right": null,
            "justify_content": null,
            "_view_module": "@jupyter-widgets/base",
            "overflow": null,
            "_model_module_version": "1.2.0",
            "_view_count": null,
            "flex_flow": null,
            "width": null,
            "min_width": null,
            "border": null,
            "align_items": null,
            "bottom": null,
            "_model_module": "@jupyter-widgets/base",
            "top": null,
            "grid_column": null,
            "overflow_y": null,
            "overflow_x": null,
            "grid_auto_flow": null,
            "grid_area": null,
            "grid_template_columns": null,
            "flex": null,
            "_model_name": "LayoutModel",
            "justify_items": null,
            "grid_row": null,
            "max_height": null,
            "align_content": null,
            "visibility": null,
            "align_self": null,
            "height": null,
            "min_height": null,
            "padding": null,
            "grid_auto_rows": null,
            "grid_gap": null,
            "max_width": null,
            "order": null,
            "_view_module_version": "1.2.0",
            "grid_template_areas": null,
            "object_position": null,
            "object_fit": null,
            "grid_auto_columns": null,
            "margin": null,
            "display": null,
            "left": null
          }
        },
        "a967a91c691347699a080c524666c1f4": {
          "model_module": "@jupyter-widgets/controls",
          "model_name": "IntProgressModel",
          "state": {
            "_view_name": "ProgressView",
            "style": "IPY_MODEL_cc7c9f77240a46c3bb4f726fcd9a652c",
            "_dom_classes": [],
            "description": "Downloading: 100%",
            "_model_name": "IntProgressModel",
            "bar_style": "success",
            "max": 478309336,
            "_view_module": "@jupyter-widgets/controls",
            "_model_module_version": "1.5.0",
            "value": 478309336,
            "_view_count": null,
            "_view_module_version": "1.5.0",
            "orientation": "horizontal",
            "min": 0,
            "description_tooltip": null,
            "_model_module": "@jupyter-widgets/controls",
            "layout": "IPY_MODEL_3454fa5db0e241449e6c342554219d32"
          }
        },
        "660903d7ba9f41bc8306c82154e1fa0f": {
          "model_module": "@jupyter-widgets/controls",
          "model_name": "HTMLModel",
          "state": {
            "_view_name": "HTMLView",
            "style": "IPY_MODEL_43bdd194ba334d90aede527817ced83b",
            "_dom_classes": [],
            "description": "",
            "_model_name": "HTMLModel",
            "placeholder": "​",
            "_view_module": "@jupyter-widgets/controls",
            "_model_module_version": "1.5.0",
            "value": " 478M/478M [00:16&lt;00:00, 29.4MB/s]",
            "_view_count": null,
            "_view_module_version": "1.5.0",
            "description_tooltip": null,
            "_model_module": "@jupyter-widgets/controls",
            "layout": "IPY_MODEL_04586721f4eb4513a899b3e1246c034d"
          }
        },
        "cc7c9f77240a46c3bb4f726fcd9a652c": {
          "model_module": "@jupyter-widgets/controls",
          "model_name": "ProgressStyleModel",
          "state": {
            "_view_name": "StyleView",
            "_model_name": "ProgressStyleModel",
            "description_width": "initial",
            "_view_module": "@jupyter-widgets/base",
            "_model_module_version": "1.5.0",
            "_view_count": null,
            "_view_module_version": "1.2.0",
            "bar_color": null,
            "_model_module": "@jupyter-widgets/controls"
          }
        },
        "3454fa5db0e241449e6c342554219d32": {
          "model_module": "@jupyter-widgets/base",
          "model_name": "LayoutModel",
          "state": {
            "_view_name": "LayoutView",
            "grid_template_rows": null,
            "right": null,
            "justify_content": null,
            "_view_module": "@jupyter-widgets/base",
            "overflow": null,
            "_model_module_version": "1.2.0",
            "_view_count": null,
            "flex_flow": null,
            "width": null,
            "min_width": null,
            "border": null,
            "align_items": null,
            "bottom": null,
            "_model_module": "@jupyter-widgets/base",
            "top": null,
            "grid_column": null,
            "overflow_y": null,
            "overflow_x": null,
            "grid_auto_flow": null,
            "grid_area": null,
            "grid_template_columns": null,
            "flex": null,
            "_model_name": "LayoutModel",
            "justify_items": null,
            "grid_row": null,
            "max_height": null,
            "align_content": null,
            "visibility": null,
            "align_self": null,
            "height": null,
            "min_height": null,
            "padding": null,
            "grid_auto_rows": null,
            "grid_gap": null,
            "max_width": null,
            "order": null,
            "_view_module_version": "1.2.0",
            "grid_template_areas": null,
            "object_position": null,
            "object_fit": null,
            "grid_auto_columns": null,
            "margin": null,
            "display": null,
            "left": null
          }
        },
        "43bdd194ba334d90aede527817ced83b": {
          "model_module": "@jupyter-widgets/controls",
          "model_name": "DescriptionStyleModel",
          "state": {
            "_view_name": "StyleView",
            "_model_name": "DescriptionStyleModel",
            "description_width": "",
            "_view_module": "@jupyter-widgets/base",
            "_model_module_version": "1.5.0",
            "_view_count": null,
            "_view_module_version": "1.2.0",
            "_model_module": "@jupyter-widgets/controls"
          }
        },
        "04586721f4eb4513a899b3e1246c034d": {
          "model_module": "@jupyter-widgets/base",
          "model_name": "LayoutModel",
          "state": {
            "_view_name": "LayoutView",
            "grid_template_rows": null,
            "right": null,
            "justify_content": null,
            "_view_module": "@jupyter-widgets/base",
            "overflow": null,
            "_model_module_version": "1.2.0",
            "_view_count": null,
            "flex_flow": null,
            "width": null,
            "min_width": null,
            "border": null,
            "align_items": null,
            "bottom": null,
            "_model_module": "@jupyter-widgets/base",
            "top": null,
            "grid_column": null,
            "overflow_y": null,
            "overflow_x": null,
            "grid_auto_flow": null,
            "grid_area": null,
            "grid_template_columns": null,
            "flex": null,
            "_model_name": "LayoutModel",
            "justify_items": null,
            "grid_row": null,
            "max_height": null,
            "align_content": null,
            "visibility": null,
            "align_self": null,
            "height": null,
            "min_height": null,
            "padding": null,
            "grid_auto_rows": null,
            "grid_gap": null,
            "max_width": null,
            "order": null,
            "_view_module_version": "1.2.0",
            "grid_template_areas": null,
            "object_position": null,
            "object_fit": null,
            "grid_auto_columns": null,
            "margin": null,
            "display": null,
            "left": null
          }
        }
      }
    }
  },
  "cells": [
    {
      "cell_type": "markdown",
      "metadata": {
        "id": "h5bqofUGklqh",
        "colab_type": "text"
      },
      "source": [
        "# Chinese Text Classification Model"
      ]
    },
    {
      "cell_type": "markdown",
      "metadata": {
        "id": "8MZS4wh_kw_V",
        "colab_type": "text"
      },
      "source": [
        "Create a binary classifier that can take a news article of unknown source written in Chinese and accurately classify its origin as either Taiwanese(1) or Mainland Chinese(0). This can serve as an important tool to prevent the spread of misinformation in the Taiwan-China discursive battlespace."
      ]
    },
    {
      "cell_type": "markdown",
      "metadata": {
        "id": "qh4obmADk71d",
        "colab_type": "text"
      },
      "source": [
        "# General Imports"
      ]
    },
    {
      "cell_type": "code",
      "metadata": {
        "id": "4Va4KoGWMgpc",
        "colab_type": "code",
        "outputId": "621d4235-61fa-4569-b38d-1eacafb1a275",
        "colab": {
          "base_uri": "https://localhost:8080/",
          "height": 170
        }
      },
      "source": [
        "#mitigates dependency issues when installing packages\n",
        "pip install ipydeps"
      ],
      "execution_count": 0,
      "outputs": [
        {
          "output_type": "stream",
          "text": [
            "Requirement already satisfied: ipydeps in /usr/local/lib/python3.6/dist-packages (0.10.0)\n",
            "Requirement already satisfied: pypki2>=0.10.1 in /usr/local/lib/python3.6/dist-packages (from ipydeps) (0.11.0)\n",
            "Requirement already satisfied: setuptools in /usr/local/lib/python3.6/dist-packages (from ipydeps) (46.1.3)\n",
            "Requirement already satisfied: pip in /usr/local/lib/python3.6/dist-packages (from ipydeps) (19.3.1)\n",
            "Requirement already satisfied: pyOpenSSL in /usr/local/lib/python3.6/dist-packages (from pypki2>=0.10.1->ipydeps) (19.1.0)\n",
            "Requirement already satisfied: cryptography>=2.8 in /usr/local/lib/python3.6/dist-packages (from pyOpenSSL->pypki2>=0.10.1->ipydeps) (2.9.2)\n",
            "Requirement already satisfied: six>=1.5.2 in /usr/local/lib/python3.6/dist-packages (from pyOpenSSL->pypki2>=0.10.1->ipydeps) (1.12.0)\n",
            "Requirement already satisfied: cffi!=1.11.3,>=1.8 in /usr/local/lib/python3.6/dist-packages (from cryptography>=2.8->pyOpenSSL->pypki2>=0.10.1->ipydeps) (1.14.0)\n",
            "Requirement already satisfied: pycparser in /usr/local/lib/python3.6/dist-packages (from cffi!=1.11.3,>=1.8->cryptography>=2.8->pyOpenSSL->pypki2>=0.10.1->ipydeps) (2.20)\n"
          ],
          "name": "stdout"
        }
      ]
    },
    {
      "cell_type": "code",
      "metadata": {
        "id": "Wn263eN4Xlwk",
        "colab_type": "code",
        "colab": {}
      },
      "source": [
        "import ipydeps"
      ],
      "execution_count": 0,
      "outputs": []
    },
    {
      "cell_type": "code",
      "metadata": {
        "id": "1wGfBtzBsAxG",
        "colab_type": "code",
        "outputId": "ac14bcc1-1a33-4a19-eb21-2869984675a7",
        "colab": {
          "base_uri": "https://localhost:8080/",
          "height": 34
        }
      },
      "source": [
        "import tensorflow as tf\n",
        "from tensorflow import keras\n",
        "import os\n",
        "import pandas as pd\n",
        "import numpy as np\n",
        "import matplotlib.pyplot as plt\n",
        "from google.colab import drive\n",
        "#assumes data and model exists in personal drive\n",
        "drive.mount('/content/drive', force_remount=True)\n",
        "base_dir='/content/drive/My Drive/Chinese Text Classifier'"
      ],
      "execution_count": 0,
      "outputs": [
        {
          "output_type": "stream",
          "text": [
            "Mounted at /content/drive\n"
          ],
          "name": "stdout"
        }
      ]
    },
    {
      "cell_type": "code",
      "metadata": {
        "id": "X7KzoHPPbhiW",
        "colab_type": "code",
        "outputId": "3f370d94-638a-40bc-ecda-7ad8286c5855",
        "colab": {
          "base_uri": "https://localhost:8080/",
          "height": 68
        }
      },
      "source": [
        "#package that integrates pretrained NLP models like BERT with Tensorflow 2.0\n",
        "ipydeps.pip(\"transformers\")\n",
        "import transformers\n",
        "#https://github.com/huggingface/transformers"
      ],
      "execution_count": 0,
      "outputs": [
        {
          "output_type": "display_data",
          "data": {
            "text/html": [
              "<div style=\"font-family:monospace;background:#e6fee6;color:black\"><pre>Packages already installed: transformers</pre></div>"
            ],
            "text/plain": [
              "<IPython.core.display.HTML object>"
            ]
          },
          "metadata": {
            "tags": []
          }
        },
        {
          "output_type": "display_data",
          "data": {
            "text/html": [
              "<div style=\"font-family:monospace;background:lightyellow;color:black\"><pre>No new packages installed</pre></div>"
            ],
            "text/plain": [
              "<IPython.core.display.HTML object>"
            ]
          },
          "metadata": {
            "tags": []
          }
        },
        {
          "output_type": "display_data",
          "data": {
            "text/html": [
              "<div style=\"font-family:monospace;background:#eee;color:black\"><pre>Done</pre></div>"
            ],
            "text/plain": [
              "<IPython.core.display.HTML object>"
            ]
          },
          "metadata": {
            "tags": []
          }
        }
      ]
    },
    {
      "cell_type": "markdown",
      "metadata": {
        "id": "78SaPCVWl2oo",
        "colab_type": "text"
      },
      "source": [
        "# Data Scraping"
      ]
    },
    {
      "cell_type": "code",
      "metadata": {
        "id": "7MwVcaQcmBxG",
        "colab_type": "code",
        "outputId": "7da11e03-6066-4d32-8383-e301385a6eed",
        "colab": {
          "base_uri": "https://localhost:8080/"
        }
      },
      "source": [
        "ipydeps.pip(\"newspaper3k\")\n",
        "import newspaper\n",
        "#https://github.com/codelucas/newspaper"
      ],
      "execution_count": 0,
      "outputs": [
        {
          "output_type": "display_data",
          "data": {
            "text/html": [
              "<div style=\"font-family:monospace;background:#eee;color:black\"><pre>Running pip to install newspaper3k</pre></div>"
            ],
            "text/plain": [
              "<IPython.core.display.HTML object>"
            ]
          },
          "metadata": {
            "tags": []
          }
        },
        {
          "output_type": "display_data",
          "data": {
            "text/html": [
              "<div style=\"font-family:monospace;background:#e6fee6;color:black\"><pre>New packages installed: cssselect, feedfinder2, feedparser, jieba3k, newspaper3k, requests-file, tinysegmenter, tldextract</pre></div>"
            ],
            "text/plain": [
              "<IPython.core.display.HTML object>"
            ]
          },
          "metadata": {
            "tags": []
          }
        },
        {
          "output_type": "display_data",
          "data": {
            "text/html": [
              "<div style=\"font-family:monospace;background:#eee;color:black\"><pre>Done</pre></div>"
            ],
            "text/plain": [
              "<IPython.core.display.HTML object>"
            ]
          },
          "metadata": {
            "tags": []
          }
        }
      ]
    },
    {
      "cell_type": "code",
      "metadata": {
        "id": "nPkaJlykmFLE",
        "colab_type": "code",
        "colab": {}
      },
      "source": [
        "#chinese news sources\n",
        "china_news = newspaper.build('http://www.chinanews.com/', memoize_articles=False, language = 'zh') #'zh' = chinese, searches for articles written in chinese"
      ],
      "execution_count": 0,
      "outputs": []
    },
    {
      "cell_type": "code",
      "metadata": {
        "id": "DhbltKg7mIFc",
        "colab_type": "code",
        "colab": {}
      },
      "source": [
        "#taiwanese news sources\n",
        "ltn = newspaper.build('https://www.ltn.com.tw/', memoize_articles=False, language = 'zh')          #setting memoize_articles to false completely rebuilds the dataset,\n",
        "udn = newspaper.build('https://udn.com/news/index', memoize_articles=False, language = 'zh')       #even if it was built before. useful if cell is run multiple times\n",
        "ct = newspaper.build('https://www.chinatimes.com/', memoize_articles=False, language = 'zh')       #to access all the data\n",
        "cna = newspaper.build('https://www.cna.com.tw/', memoize_articles=False, language = 'zh')\n",
        "tnl = newspaper.build('https://www.thenewslens.com/', memoize_articles=False, language = 'zh')\n",
        "storm = newspaper.build('https://www.storm.mg/', memoize_articles=False, language = 'zh')"
      ],
      "execution_count": 0,
      "outputs": []
    },
    {
      "cell_type": "code",
      "metadata": {
        "id": "gSmfk5X5mMkt",
        "colab_type": "code",
        "colab": {}
      },
      "source": [
        "#number of chinese news sources\n",
        "print(china_news.size())"
      ],
      "execution_count": 0,
      "outputs": []
    },
    {
      "cell_type": "code",
      "metadata": {
        "id": "8wksRUTxmQYV",
        "colab_type": "code",
        "colab": {}
      },
      "source": [
        "#number of taiwanese news sources\n",
        "print(ltn.size())\n",
        "print(udn.size())\n",
        "print(ct.size())\n",
        "print(cna.size())\n",
        "print(tnl.size())\n",
        "print(storm.size())"
      ],
      "execution_count": 0,
      "outputs": []
    },
    {
      "cell_type": "code",
      "metadata": {
        "id": "HdDYJll3mT5N",
        "colab_type": "code",
        "colab": {}
      },
      "source": [
        "#write chinese news articles to text document\n",
        "china_data = open(\"china_data.txt\", \"w\")\n",
        "issue_count = 0\n",
        "for article in china_news.articles:\n",
        "  try:\n",
        "    article.download()\n",
        "    article.parse()\n",
        "    if len(article.text) > 50: #only scrape articles with more than 50 characters\n",
        "      china_data.write(article.text + \"\\n-----------------------------------\\n\") #delimiter\n",
        "  except:\n",
        "    issue_count += 1 #in case package is unable to decipher downloaded article\n",
        "    print(str(issue_count) + \" issue articles\")\n",
        "china_data.close()"
      ],
      "execution_count": 0,
      "outputs": []
    },
    {
      "cell_type": "code",
      "metadata": {
        "id": "oB0DgacVmZoS",
        "colab_type": "code",
        "colab": {}
      },
      "source": [
        "#write taiwanese news articles to text document\n",
        "taiwan_data = open(\"taiwan_data.txt\", \"w\")\n",
        "tw_news = [ltn, udn, ct, cna, tnl, storm]\n",
        "issue_count = 0\n",
        "for news_source in tw_news:\n",
        "  for article in news_source.articles:\n",
        "    try:\n",
        "      article.download()\n",
        "      article.parse()\n",
        "      if len(article.text) > 50: #only scrape articles with more than 50 characters\n",
        "        taiwan_data.write(article.text + \"\\n-----------------------------------\\n\") #delimiter\n",
        "    except:\n",
        "      issue_count += 1  #in case package is unable to decipher downloaded article\n",
        "      print(str(issue_count) + \" Issue articles\")\n",
        "taiwan_data.close()"
      ],
      "execution_count": 0,
      "outputs": []
    },
    {
      "cell_type": "markdown",
      "metadata": {
        "id": "zBrI9ZX-mg9I",
        "colab_type": "text"
      },
      "source": [
        "# Data Preprocessing"
      ]
    },
    {
      "cell_type": "markdown",
      "metadata": {
        "id": "BMKh4HeLLgb4",
        "colab_type": "text"
      },
      "source": [
        "## Raw Data\n"
      ]
    },
    {
      "cell_type": "code",
      "metadata": {
        "id": "mQxoeOZ0m7KC",
        "colab_type": "code",
        "colab": {}
      },
      "source": [
        "#datasets\n",
        "taiwan = os.path.join(base_dir, 'taiwan_data.txt')\n",
        "ch = os.path.join(base_dir, 'china_data.txt')"
      ],
      "execution_count": 0,
      "outputs": []
    },
    {
      "cell_type": "code",
      "metadata": {
        "id": "eJa98gh1d4Ps",
        "colab_type": "code",
        "colab": {}
      },
      "source": [
        "#organize taiwanese news dataset into list of articles\n",
        "t_file = open(taiwan).readlines()\n",
        "t_list = [line.rstrip('\\n') for line in t_file]\n",
        "t_no_newline = \"\".join(t_list)\n",
        "t_list = t_no_newline.split(\"-----------------------------------\")\n",
        "\n",
        "#organize chinese news dataset into list of articles\n",
        "c_file = open(ch).readlines()\n",
        "c_list = [line.rstrip('\\n') for line in c_file]\n",
        "c_no_newline = \"\".join(c_list)\n",
        "c_list = c_no_newline.split(\"-----------------------------------\")"
      ],
      "execution_count": 0,
      "outputs": []
    },
    {
      "cell_type": "code",
      "metadata": {
        "id": "rfiBPwW0skNu",
        "colab_type": "code",
        "outputId": "1f924844-985a-4fe2-c2be-164a51bd7601",
        "colab": {
          "base_uri": "https://localhost:8080/"
        }
      },
      "source": [
        "import random\n",
        "\n",
        "print(\"Number of Taiwanese news articles: \" + str(len(t_list)))\n",
        "print(\"Number of Chinese news articles: \" + str(len(c_list)))\n",
        "\n",
        "#randomly remove articles from china news dataset to match size of taiwanese dataset\n",
        "random.shuffle(c_list)\n",
        "c_list = c_list[:len(t_list)]\n",
        "print(\"\\nNumber of Chinese news articles after removing articles: \" + str(len(c_list)))"
      ],
      "execution_count": 0,
      "outputs": [
        {
          "output_type": "stream",
          "text": [
            "Number of Taiwanese news articles: 1931\n",
            "Number of Chinese news articles: 4245\n",
            "\n",
            "Number of Chinese news articles after removing articles: 1931\n"
          ],
          "name": "stdout"
        }
      ]
    },
    {
      "cell_type": "code",
      "metadata": {
        "id": "M4ItaTUruBDm",
        "colab_type": "code",
        "outputId": "d2de0169-6c87-43a5-db78-6aa16bd64547",
        "colab": {
          "base_uri": "https://localhost:8080/"
        }
      },
      "source": [
        "#taiwanese = 1\n",
        "df = pd.DataFrame({\"Articles\": t_list,\"Classification\": 1})\n",
        "\n",
        "#chinese = 0\n",
        "df2 = pd.DataFrame({\"Articles\": c_list,\"Classification\": 0})\n",
        "\n",
        "data = df.append(df2)\n",
        "data = data.sample(frac=1) #shuffle data\n",
        "data"
      ],
      "execution_count": 0,
      "outputs": [
        {
          "output_type": "execute_result",
          "data": {
            "text/html": [
              "<div>\n",
              "<style scoped>\n",
              "    .dataframe tbody tr th:only-of-type {\n",
              "        vertical-align: middle;\n",
              "    }\n",
              "\n",
              "    .dataframe tbody tr th {\n",
              "        vertical-align: top;\n",
              "    }\n",
              "\n",
              "    .dataframe thead th {\n",
              "        text-align: right;\n",
              "    }\n",
              "</style>\n",
              "<table border=\"1\" class=\"dataframe\">\n",
              "  <thead>\n",
              "    <tr style=\"text-align: right;\">\n",
              "      <th></th>\n",
              "      <th>Articles</th>\n",
              "      <th>Classification</th>\n",
              "    </tr>\n",
              "  </thead>\n",
              "  <tbody>\n",
              "    <tr>\n",
              "      <th>532</th>\n",
              "      <td>義大利新冠肺炎爆發後，當局下令全國封鎖，民眾發起在陽台窗口唱歌、演奏，表達堅持不懈與團結抗疫...</td>\n",
              "      <td>1</td>\n",
              "    </tr>\n",
              "    <tr>\n",
              "      <th>617</th>\n",
              "      <td>近400亩百合花6月将盛开在宁夏彭阳的“大地指纹”中2020-04-06 13:54:52 ...</td>\n",
              "      <td>0</td>\n",
              "    </tr>\n",
              "    <tr>\n",
              "      <th>0</th>\n",
              "      <td>2日，中国吉林网从长春市市场监督管理局获悉，为全面贯彻落实长春市委、市政府春季学期中、小学开...</td>\n",
              "      <td>0</td>\n",
              "    </tr>\n",
              "    <tr>\n",
              "      <th>1839</th>\n",
              "      <td>作為美國在國防、外交及經濟等層面的重要盟友，英國23日做出脫離歐盟的決定，不僅將削弱華盛頓對...</td>\n",
              "      <td>1</td>\n",
              "    </tr>\n",
              "    <tr>\n",
              "      <th>752</th>\n",
              "      <td>中新网兵团新闻3月30日（张万成 胡昌飞）新疆生产建设兵团第一师四团中学教师28日正常上班，...</td>\n",
              "      <td>0</td>\n",
              "    </tr>\n",
              "    <tr>\n",
              "      <th>...</th>\n",
              "      <td>...</td>\n",
              "      <td>...</td>\n",
              "    </tr>\n",
              "    <tr>\n",
              "      <th>1824</th>\n",
              "      <td>中天新聞台因報導高雄市長韓國瑜新聞比例過高，屢遭民眾申訴，甚至被網友酸「韓天新聞台」，遭國家...</td>\n",
              "      <td>1</td>\n",
              "    </tr>\n",
              "    <tr>\n",
              "      <th>382</th>\n",
              "      <td>湯姆漢克痊癒首露面！《週六夜現場》搞笑自嘲〔記者吳琬婷／台北報導〕好萊塢男星湯姆漢克上月初和...</td>\n",
              "      <td>1</td>\n",
              "    </tr>\n",
              "    <tr>\n",
              "      <th>511</th>\n",
              "      <td>枫叶汽车品牌发布 首款车型6.88万开售2020年04月10日 19:36 来源：中新网上海...</td>\n",
              "      <td>0</td>\n",
              "    </tr>\n",
              "    <tr>\n",
              "      <th>1156</th>\n",
              "      <td>铁路工人午夜为兰新线电力设备疏通“筋脉”中新网甘肃新闻4月10日电(通讯员 冯枫 康娜 胡进...</td>\n",
              "      <td>0</td>\n",
              "    </tr>\n",
              "    <tr>\n",
              "      <th>1426</th>\n",
              "      <td>秋意正濃、讀詩正好，一年一度的「台北詩歌節」，首場活動將於本週六（21日）登場！今年的台北詩...</td>\n",
              "      <td>1</td>\n",
              "    </tr>\n",
              "  </tbody>\n",
              "</table>\n",
              "<p>3862 rows × 2 columns</p>\n",
              "</div>"
            ],
            "text/plain": [
              "                                               Articles  Classification\n",
              "532   義大利新冠肺炎爆發後，當局下令全國封鎖，民眾發起在陽台窗口唱歌、演奏，表達堅持不懈與團結抗疫...               1\n",
              "617   近400亩百合花6月将盛开在宁夏彭阳的“大地指纹”中2020-04-06 13:54:52 ...               0\n",
              "0     2日，中国吉林网从长春市市场监督管理局获悉，为全面贯彻落实长春市委、市政府春季学期中、小学开...               0\n",
              "1839  作為美國在國防、外交及經濟等層面的重要盟友，英國23日做出脫離歐盟的決定，不僅將削弱華盛頓對...               1\n",
              "752   中新网兵团新闻3月30日（张万成 胡昌飞）新疆生产建设兵团第一师四团中学教师28日正常上班，...               0\n",
              "...                                                 ...             ...\n",
              "1824  中天新聞台因報導高雄市長韓國瑜新聞比例過高，屢遭民眾申訴，甚至被網友酸「韓天新聞台」，遭國家...               1\n",
              "382   湯姆漢克痊癒首露面！《週六夜現場》搞笑自嘲〔記者吳琬婷／台北報導〕好萊塢男星湯姆漢克上月初和...               1\n",
              "511   枫叶汽车品牌发布 首款车型6.88万开售2020年04月10日 19:36 来源：中新网上海...               0\n",
              "1156  铁路工人午夜为兰新线电力设备疏通“筋脉”中新网甘肃新闻4月10日电(通讯员 冯枫 康娜 胡进...               0\n",
              "1426  秋意正濃、讀詩正好，一年一度的「台北詩歌節」，首場活動將於本週六（21日）登場！今年的台北詩...               1\n",
              "\n",
              "[3862 rows x 2 columns]"
            ]
          },
          "metadata": {
            "tags": []
          },
          "execution_count": 100
        }
      ]
    },
    {
      "cell_type": "markdown",
      "metadata": {
        "id": "IwbOHetcO5kT",
        "colab_type": "text"
      },
      "source": [
        "## General Preprocessing"
      ]
    },
    {
      "cell_type": "markdown",
      "metadata": {
        "id": "AYmS3ozJLqzl",
        "colab_type": "text"
      },
      "source": [
        "### Filter Text with Regex"
      ]
    },
    {
      "cell_type": "code",
      "metadata": {
        "id": "Nh7HteAV7rTP",
        "colab_type": "code",
        "colab": {}
      },
      "source": [
        "import re\n",
        "#clean text by only including chinese characters\n",
        "#regex code found here https://stackoverflow.com/questions/2718196/find-all-chinese-text-in-a-string-using-python-and-regex\n",
        "\n",
        "#taiwanese dataset\n",
        "taiwan_list = []\n",
        "for article in t_list:\n",
        "  single_article = []\n",
        "  for j in re.findall(r'[\\u4e00-\\u9fff]+', article): \n",
        "    single_article.append(j)\n",
        "  taiwan_list.append(\"\".join(single_article))\n",
        "\n",
        "#chinese dataset\n",
        "china_list = []\n",
        "for article in c_list:\n",
        "  single_article = []\n",
        "  for j in re.findall(r'[\\u4e00-\\u9fff]+', article):\n",
        "    single_article.append(j)\n",
        "  china_list.append(\"\".join(single_article))"
      ],
      "execution_count": 0,
      "outputs": []
    },
    {
      "cell_type": "markdown",
      "metadata": {
        "id": "7fehqZjjMI_N",
        "colab_type": "text"
      },
      "source": [
        "### Conversion to Traditional Chinese"
      ]
    },
    {
      "cell_type": "code",
      "metadata": {
        "id": "59NEJN4vsE0T",
        "colab_type": "code",
        "outputId": "a5d7bcef-bc69-4d0b-8c83-7771b894d3d6",
        "colab": {
          "base_uri": "https://localhost:8080/"
        }
      },
      "source": [
        "ipydeps.pip(\"hanziconv\")\n",
        "from hanziconv import HanziConv\n",
        "#https://pypi.org/project/hanziconv/"
      ],
      "execution_count": 0,
      "outputs": [
        {
          "output_type": "display_data",
          "data": {
            "text/html": [
              "<div style=\"font-family:monospace;background:#eee;color:black\"><pre>Running pip to install hanziconv</pre></div>"
            ],
            "text/plain": [
              "<IPython.core.display.HTML object>"
            ]
          },
          "metadata": {
            "tags": []
          }
        },
        {
          "output_type": "display_data",
          "data": {
            "text/html": [
              "<div style=\"font-family:monospace;background:#e6fee6;color:black\"><pre>New packages installed: hanziconv</pre></div>"
            ],
            "text/plain": [
              "<IPython.core.display.HTML object>"
            ]
          },
          "metadata": {
            "tags": []
          }
        },
        {
          "output_type": "display_data",
          "data": {
            "text/html": [
              "<div style=\"font-family:monospace;background:#eee;color:black\"><pre>Done</pre></div>"
            ],
            "text/plain": [
              "<IPython.core.display.HTML object>"
            ]
          },
          "metadata": {
            "tags": []
          }
        }
      ]
    },
    {
      "cell_type": "code",
      "metadata": {
        "id": "PKnpMNCOsXBX",
        "colab_type": "code",
        "colab": {}
      },
      "source": [
        "#convert all text in Chinese articles into traditional characters\n",
        "tr_china_list = []\n",
        "for article in china_list:\n",
        "  tr_china_list.append(HanziConv.toTraditional(article))"
      ],
      "execution_count": 0,
      "outputs": []
    },
    {
      "cell_type": "code",
      "metadata": {
        "id": "RSOBeXno4Bjt",
        "colab_type": "code",
        "colab": {}
      },
      "source": [
        "#taiwanese cleaned text document\n",
        "taiwan_clean = open(\"taiwan_clean.txt\", \"w\")\n",
        "for article in taiwan_list:#t_segmented_list:\n",
        "  taiwan_clean.write(article + \"\\n\")\n",
        "taiwan_clean.close()\n",
        "\n",
        "#chinese cleaned text document\n",
        "china_clean = open(\"china_clean.txt\", \"w\")\n",
        "for article in tr_china_list:#c_segmented_list:\n",
        "  china_clean.write(article + \"\\n\")\n",
        "china_clean.close()\n",
        "\n",
        "#save these new text files and add them to the linked gdrive directory"
      ],
      "execution_count": 0,
      "outputs": []
    },
    {
      "cell_type": "markdown",
      "metadata": {
        "id": "ZD8VZIQ8MUa1",
        "colab_type": "text"
      },
      "source": [
        "## Cleaned Dataframe"
      ]
    },
    {
      "cell_type": "code",
      "metadata": {
        "id": "UbDY-RpD4sKP",
        "colab_type": "code",
        "colab": {}
      },
      "source": [
        "#cleaned datasets\n",
        "taiwan_clean = os.path.join(base_dir, 'taiwan_clean.txt')\n",
        "china_clean = os.path.join(base_dir, 'china_clean.txt')"
      ],
      "execution_count": 0,
      "outputs": []
    },
    {
      "cell_type": "code",
      "metadata": {
        "id": "9nrflpu25MY3",
        "colab_type": "code",
        "outputId": "90b42684-40e3-4246-87e6-27c07a9f7711",
        "colab": {
          "base_uri": "https://localhost:8080/",
          "height": 419
        }
      },
      "source": [
        "#cleaned dataframe\n",
        "t_clean_data = pd.read_csv(taiwan_clean, header = None, names = [\"Articles\"])\n",
        "t_clean_data[\"Classification\"] = 1\n",
        "\n",
        "c_clean_data = pd.read_csv(china_clean, header = None, names = [\"Articles\"])\n",
        "c_clean_data[\"Classification\"] = 0\n",
        "\n",
        "data = t_clean_data.append(c_clean_data)\n",
        "data = data.sample(frac=1)\n",
        "data"
      ],
      "execution_count": 0,
      "outputs": [
        {
          "output_type": "execute_result",
          "data": {
            "text/html": [
              "<div>\n",
              "<style scoped>\n",
              "    .dataframe tbody tr th:only-of-type {\n",
              "        vertical-align: middle;\n",
              "    }\n",
              "\n",
              "    .dataframe tbody tr th {\n",
              "        vertical-align: top;\n",
              "    }\n",
              "\n",
              "    .dataframe thead th {\n",
              "        text-align: right;\n",
              "    }\n",
              "</style>\n",
              "<table border=\"1\" class=\"dataframe\">\n",
              "  <thead>\n",
              "    <tr style=\"text-align: right;\">\n",
              "      <th></th>\n",
              "      <th>Articles</th>\n",
              "      <th>Classification</th>\n",
              "    </tr>\n",
              "  </thead>\n",
              "  <tbody>\n",
              "    <tr>\n",
              "      <th>1342</th>\n",
              "      <td>甘肅平涼來瞭老熟人鞏固脫貧成果保春耕中新網甘肅新聞月日電梁璐身體怎麼樣生産生活缺些什麼有啥睏...</td>\n",
              "      <td>0</td>\n",
              "    </tr>\n",
              "    <tr>\n",
              "      <th>86</th>\n",
              "      <td>張國偉跳不動瞭田壇高齡問題引關注東京奧運會延期一年中國田徑麵臨重大課題明年將滿三十歲的中國跳...</td>\n",
              "      <td>0</td>\n",
              "    </tr>\n",
              "    <tr>\n",
              "      <th>483</th>\n",
              "      <td>更新時間月日新型冠狀病毒擴散全球死亡數不斷攀升各國紛紛祭出鎖國政策試圖阻止疫情蔓延截至目前為...</td>\n",
              "      <td>1</td>\n",
              "    </tr>\n",
              "    <tr>\n",
              "      <th>678</th>\n",
              "      <td>湖北省首發商品住宅質量閤格證湖北日報訊記者張倩倩陳嶼通訊員董文斌與傢用電器服裝一樣每套商品房...</td>\n",
              "      <td>0</td>\n",
              "    </tr>\n",
              "    <tr>\n",
              "      <th>958</th>\n",
              "      <td>鼠年出遊走春求財北中南景點一次看新年期間祈福求財除了拜拜搶頭香外其實廟宇周邊還有許多適合闔家...</td>\n",
              "      <td>1</td>\n",
              "    </tr>\n",
              "    <tr>\n",
              "      <th>...</th>\n",
              "      <td>...</td>\n",
              "      <td>...</td>\n",
              "    </tr>\n",
              "    <tr>\n",
              "      <th>1471</th>\n",
              "      <td>因肺炎疫情延後的中國人大政協兩會傳出將於四月下旬舉行一位全國政協委員私下跟新新聞透露經向政協...</td>\n",
              "      <td>1</td>\n",
              "    </tr>\n",
              "    <tr>\n",
              "      <th>1395</th>\n",
              "      <td>在抖音每天都上演著不同的人物故事創作者們用短視頻記錄下生活的點滴映射齣人生不同的閃光點而在直...</td>\n",
              "      <td>0</td>\n",
              "    </tr>\n",
              "    <tr>\n",
              "      <th>1749</th>\n",
              "      <td>王兆力鞏固拓展主題教育成果全麵打贏脫貧攻堅戰本報日訊記者馬智博日下午哈爾濱市委理論學習中心組...</td>\n",
              "      <td>0</td>\n",
              "    </tr>\n",
              "    <tr>\n",
              "      <th>454</th>\n",
              "      <td>蘭州新區首傢服務全民的社區健身中心落成中新網甘肅新聞月日電據甘肅省體育局披露為進一步完善新區...</td>\n",
              "      <td>0</td>\n",
              "    </tr>\n",
              "    <tr>\n",
              "      <th>1010</th>\n",
              "      <td>台北中央社世界保健機関事務局長台湾人身攻撃受主張問題真相世界伝全面広告米紙掲載上資金募日始日...</td>\n",
              "      <td>1</td>\n",
              "    </tr>\n",
              "  </tbody>\n",
              "</table>\n",
              "<p>3861 rows × 2 columns</p>\n",
              "</div>"
            ],
            "text/plain": [
              "                                               Articles  Classification\n",
              "1342  甘肅平涼來瞭老熟人鞏固脫貧成果保春耕中新網甘肅新聞月日電梁璐身體怎麼樣生産生活缺些什麼有啥睏...               0\n",
              "86    張國偉跳不動瞭田壇高齡問題引關注東京奧運會延期一年中國田徑麵臨重大課題明年將滿三十歲的中國跳...               0\n",
              "483   更新時間月日新型冠狀病毒擴散全球死亡數不斷攀升各國紛紛祭出鎖國政策試圖阻止疫情蔓延截至目前為...               1\n",
              "678   湖北省首發商品住宅質量閤格證湖北日報訊記者張倩倩陳嶼通訊員董文斌與傢用電器服裝一樣每套商品房...               0\n",
              "958   鼠年出遊走春求財北中南景點一次看新年期間祈福求財除了拜拜搶頭香外其實廟宇周邊還有許多適合闔家...               1\n",
              "...                                                 ...             ...\n",
              "1471  因肺炎疫情延後的中國人大政協兩會傳出將於四月下旬舉行一位全國政協委員私下跟新新聞透露經向政協...               1\n",
              "1395  在抖音每天都上演著不同的人物故事創作者們用短視頻記錄下生活的點滴映射齣人生不同的閃光點而在直...               0\n",
              "1749  王兆力鞏固拓展主題教育成果全麵打贏脫貧攻堅戰本報日訊記者馬智博日下午哈爾濱市委理論學習中心組...               0\n",
              "454   蘭州新區首傢服務全民的社區健身中心落成中新網甘肅新聞月日電據甘肅省體育局披露為進一步完善新區...               0\n",
              "1010  台北中央社世界保健機関事務局長台湾人身攻撃受主張問題真相世界伝全面広告米紙掲載上資金募日始日...               1\n",
              "\n",
              "[3861 rows x 2 columns]"
            ]
          },
          "metadata": {
            "tags": []
          },
          "execution_count": 6
        }
      ]
    },
    {
      "cell_type": "markdown",
      "metadata": {
        "id": "1E-zUz7oPLQZ",
        "colab_type": "text"
      },
      "source": [
        "## BERT-Specific Processing"
      ]
    },
    {
      "cell_type": "markdown",
      "metadata": {
        "id": "TykOYW12Scp0",
        "colab_type": "text"
      },
      "source": [
        "### Truncation"
      ]
    },
    {
      "cell_type": "markdown",
      "metadata": {
        "id": "ePq_AhtQQmcg",
        "colab_type": "text"
      },
      "source": [
        "BERT takes a max length input of 510 tokens (512 actually but the last two tokens are [CLS] and [SEP], tokens designated by BERT to mark the beginning and end of a sentence). Since we are dealing with news articles, it is likely that much of the data exceeds 510 tokens. To deal with this, we need to truncate any article that is too large. According to Section 5.3.1 of the essay \"How to Fine-Tune BERT for Text Classification?\" by Chi Sun, Xipeng Qiu, Yige Xu, and Xuanjing Huang, the best results are when the data is truncated into the first 128 and last 382 tokens. The aforementioned essay can be found [here](https://arxiv.org/abs/1905.05583)."
      ]
    },
    {
      "cell_type": "code",
      "metadata": {
        "id": "MW9J5igxQIUH",
        "colab_type": "code",
        "colab": {}
      },
      "source": [
        "#articles and labels according to dataframe\n",
        "articles = data.Articles.values\n",
        "labels = data.Classification.values"
      ],
      "execution_count": 0,
      "outputs": []
    },
    {
      "cell_type": "code",
      "metadata": {
        "id": "XBE2XIadWGXb",
        "colab_type": "code",
        "colab": {}
      },
      "source": [
        "#selects the head and tail tokens to ensure input length does not exceed 510\n",
        "head_tail_articles = []\n",
        "for article in articles:\n",
        "  if len(article) > 510:\n",
        "    head_tail_articles.append(article[:128]+article[-382:])\n",
        "  else:\n",
        "    head_tail_articles.append(article) #original article length does not exceed 510"
      ],
      "execution_count": 0,
      "outputs": []
    },
    {
      "cell_type": "markdown",
      "metadata": {
        "id": "uhnHUqFCGkmk",
        "colab_type": "text"
      },
      "source": [
        "### Tokenization\n"
      ]
    },
    {
      "cell_type": "code",
      "metadata": {
        "id": "4bPWOGCkQdnj",
        "colab_type": "code",
        "outputId": "30518c66-9cb5-4739-f2c0-4257af38d3b9",
        "colab": {
          "base_uri": "https://localhost:8080/",
          "height": 66,
          "referenced_widgets": [
            "124c47f62c6b4bc1a5bb1c7b7ea4d9c5",
            "adbc5ae4b8d145c6b5f3b683ec405929",
            "9d46f5aa84b248249592efcb4bf2878d",
            "5ee2f02b57a24699bd5bb18b7f6ed9b9",
            "da847291d9e54ee19108f8c2eadc30aa",
            "b7ffac95276f476c8ca85942b6b2da2a",
            "7a8972fee6ad446e99dd6461bee87eb6",
            "d800b9bbe7b54bfe83f2ef0b1add23e7"
          ]
        }
      },
      "source": [
        "from transformers import BertTokenizer\n",
        "\n",
        "# BERT Tokenizer for Chinese model\n",
        "tokenizer = BertTokenizer.from_pretrained('bert-base-chinese')"
      ],
      "execution_count": 0,
      "outputs": [
        {
          "output_type": "display_data",
          "data": {
            "application/vnd.jupyter.widget-view+json": {
              "model_id": "124c47f62c6b4bc1a5bb1c7b7ea4d9c5",
              "version_minor": 0,
              "version_major": 2
            },
            "text/plain": [
              "HBox(children=(IntProgress(value=0, description='Downloading', max=109540, style=ProgressStyle(description_wid…"
            ]
          },
          "metadata": {
            "tags": []
          }
        },
        {
          "output_type": "stream",
          "text": [
            "\n"
          ],
          "name": "stdout"
        }
      ]
    },
    {
      "cell_type": "code",
      "metadata": {
        "id": "Y_PKKBN_TLnp",
        "colab_type": "code",
        "outputId": "d30e1e4c-c3df-4e06-8a14-731acbbced79",
        "colab": {
          "base_uri": "https://localhost:8080/",
          "height": 88
        }
      },
      "source": [
        "#original article\n",
        "print(' Original: ', head_tail_articles[0])\n",
        "\n",
        "#tokenized article\n",
        "print('Tokenized: ', tokenizer.tokenize(head_tail_articles[0]))\n",
        "\n",
        "#articles mapped to token IDs\n",
        "print('Token IDs: ', tokenizer.convert_tokens_to_ids(tokenizer.tokenize(head_tail_articles[0])))"
      ],
      "execution_count": 0,
      "outputs": [
        {
          "output_type": "stream",
          "text": [
            " Original:  甘肅平涼來瞭老熟人鞏固脫貧成果保春耕中新網甘肅新聞月日電梁璐身體怎麼樣生産生活缺些什麼有啥睏難一定要跟我們講季春時節氣溫驟降平涼市崆峒區峽門鄉白傢山村村部大院裏的捐贈活動氛圍卻熱度不減為盡快消除新冠肺炎疫情對白傢山村生産生活的影響幫助貧睏戶盡快開展春耕作業為種植戶與非種植貧睏戶分彆發放瞭春耕物資和米麵油等生活用品蘭州大學的扶貧乾部讓咱的生産生活有瞭底我們一定好好搞養殖領到春耕物資的百姓們個個喜笑顔開白傢山村駐村幫扶工作隊隊長兼第一書記王笳舟介紹說我們駐村幫扶工作隊根據貧睏戶春耕種植計劃集閤經費分配情況為農戶購買瞭玉米籽青貯玉米籽紅豆草籽苜蓿籽蕎麥籽可種植麵積餘畝地膜捲有機化肥袋消毒液斤保住貧睏群眾的錢袋子攻下脫貧攻堅最後的山頭作為幫扶單位我們蘭州大學始終記掛著白傢山村的百姓希望大傢用我們捐贈的春耕物資擴大種養殖發展農民專業閤作社積極拓寬增收渠道勤勞緻富幫扶單位和蘭州大學將作為白傢山村特色産品的銷售主市場幫扶小組組長蘭州大學資源環境學院黨委書記瀋正虎說據悉為幫助貧睏戶擴大生産鞏固脫貧攻堅成果本次活動中蘭州大學共為峽門鄉王山村白傢山村汪陳灣村山口村白楊溝村王店村個幫扶村提供瞭價值萬元的籽種化肥等春耕生産物資完\n",
            "Tokenized:  ['甘', '肅', '平', '涼', '來', '瞭', '老', '熟', '人', '鞏', '固', '脫', '貧', '成', '果', '保', '春', '耕', '中', '新', '網', '甘', '肅', '新', '聞', '月', '日', '電', '梁', '璐', '身', '體', '怎', '麼', '樣', '生', '産', '生', '活', '缺', '些', '什', '麼', '有', '啥', '睏', '難', '一', '定', '要', '跟', '我', '們', '講', '季', '春', '時', '節', '氣', '溫', '驟', '降', '平', '涼', '市', '崆', '峒', '區', '峽', '門', '鄉', '白', '傢', '山', '村', '村', '部', '大', '院', '裏', '的', '捐', '贈', '活', '動', '氛', '圍', '卻', '熱', '度', '不', '減', '為', '盡', '快', '消', '除', '新', '冠', '肺', '炎', '疫', '情', '對', '白', '傢', '山', '村', '生', '産', '生', '活', '的', '影', '響', '幫', '助', '貧', '睏', '戶', '盡', '快', '開', '展', '春', '耕', '作', '業', '為', '種', '植', '戶', '與', '非', '種', '植', '貧', '睏', '戶', '分', '彆', '發', '放', '瞭', '春', '耕', '物', '資', '和', '米', '麵', '油', '等', '生', '活', '用', '品', '蘭', '州', '大', '學', '的', '扶', '貧', '乾', '部', '讓', '咱', '的', '生', '産', '生', '活', '有', '瞭', '底', '我', '們', '一', '定', '好', '好', '搞', '養', '殖', '領', '到', '春', '耕', '物', '資', '的', '百', '姓', '們', '個', '個', '喜', '笑', '顔', '開', '白', '傢', '山', '村', '駐', '村', '幫', '扶', '工', '作', '隊', '隊', '長', '兼', '第', '一', '書', '記', '王', '[UNK]', '舟', '介', '紹', '說', '我', '們', '駐', '村', '幫', '扶', '工', '作', '隊', '根', '據', '貧', '睏', '戶', '春', '耕', '種', '植', '計', '劃', '集', '[UNK]', '經', '費', '分', '配', '情', '況', '為', '農', '戶', '購', '買', '瞭', '玉', '米', '籽', '青', '貯', '玉', '米', '籽', '紅', '豆', '草', '籽', '苜', '蓿', '籽', '蕎', '麥', '籽', '可', '種', '植', '麵', '積', '餘', '畝', '地', '膜', '捲', '有', '機', '化', '肥', '袋', '消', '毒', '液', '斤', '保', '住', '貧', '睏', '群', '眾', '的', '錢', '袋', '子', '攻', '下', '脫', '貧', '攻', '堅', '最', '後', '的', '山', '頭', '作', '為', '幫', '扶', '單', '位', '我', '們', '蘭', '州', '大', '學', '始', '終', '記', '掛', '著', '白', '傢', '山', '村', '的', '百', '姓', '希', '望', '大', '傢', '用', '我', '們', '捐', '贈', '的', '春', '耕', '物', '資', '擴', '大', '種', '養', '殖', '發', '展', '農', '民', '專', '業', '[UNK]', '作', '社', '積', '極', '拓', '寬', '增', '收', '渠', '道', '勤', '勞', '緻', '富', '幫', '扶', '單', '位', '和', '蘭', '州', '大', '學', '將', '作', '為', '白', '傢', '山', '村', '特', '色', '産', '品', '的', '銷', '售', '主', '市', '場', '幫', '扶', '小', '組', '組', '長', '蘭', '州', '大', '學', '資', '源', '環', '境', '學', '院', '黨', '委', '書', '記', '瀋', '正', '虎', '說', '據', '悉', '為', '幫', '助', '貧', '睏', '戶', '擴', '大', '生', '産', '鞏', '固', '脫', '貧', '攻', '堅', '成', '果', '本', '次', '活', '動', '中', '蘭', '州', '大', '學', '共', '為', '峽', '門', '鄉', '王', '山', '村', '白', '傢', '山', '村', '汪', '陳', '灣', '村', '山', '口', '村', '白', '楊', '溝', '村', '王', '店', '村', '個', '幫', '扶', '村', '提', '供', '瞭', '價', '值', '萬', '元', '的', '籽', '種', '化', '肥', '等', '春', '耕', '生', '産', '物', '資', '完']\n",
            "Token IDs:  [4491, 5486, 2398, 3893, 889, 4747, 5439, 4225, 782, 7492, 1743, 5562, 6514, 2768, 3362, 924, 3217, 5449, 704, 3173, 5206, 4491, 5486, 3173, 5472, 3299, 3189, 7442, 3448, 4466, 6716, 7768, 2582, 7938, 3564, 4495, 4497, 4495, 3833, 5375, 763, 784, 7938, 3300, 1567, 4711, 7432, 671, 2137, 6206, 6656, 2769, 947, 6341, 2108, 3217, 3229, 5059, 3706, 3984, 7713, 7360, 2398, 3893, 2356, 2299, 2282, 1281, 2296, 7271, 6965, 4635, 993, 2255, 3333, 3333, 6956, 1920, 7368, 6166, 4638, 2935, 6557, 3833, 1240, 3702, 1752, 1320, 4229, 2428, 679, 3938, 4158, 4674, 2571, 3867, 7370, 3173, 1094, 5511, 4142, 4554, 2658, 2205, 4635, 993, 2255, 3333, 4495, 4497, 4495, 3833, 4638, 2512, 7513, 2396, 1221, 6514, 4711, 2786, 4674, 2571, 7274, 2245, 3217, 5449, 868, 3511, 4158, 4934, 3490, 2786, 5645, 7478, 4934, 3490, 6514, 4711, 2786, 1146, 2491, 4634, 3123, 4747, 3217, 5449, 4289, 6536, 1469, 5101, 7934, 3779, 5023, 4495, 3833, 4500, 1501, 5984, 2336, 1920, 2119, 4638, 2820, 6514, 746, 6956, 6366, 1493, 4638, 4495, 4497, 4495, 3833, 3300, 4747, 2419, 2769, 947, 671, 2137, 1962, 1962, 3018, 7621, 3658, 7526, 1168, 3217, 5449, 4289, 6536, 4638, 4636, 1998, 947, 943, 943, 1599, 5010, 7543, 7274, 4635, 993, 2255, 3333, 7688, 3333, 2396, 2820, 2339, 868, 7386, 7386, 7269, 1076, 5018, 671, 3292, 6250, 4374, 100, 5660, 792, 5171, 6303, 2769, 947, 7688, 3333, 2396, 2820, 2339, 868, 7386, 3418, 3087, 6514, 4711, 2786, 3217, 5449, 4934, 3490, 6243, 1205, 7415, 100, 5195, 6527, 1146, 6981, 2658, 3785, 4158, 6803, 2786, 6554, 6525, 4747, 4373, 5101, 5104, 7471, 6520, 4373, 5101, 5104, 5148, 6486, 5770, 5104, 5730, 5911, 5104, 5935, 7930, 5104, 1377, 4934, 3490, 7934, 4948, 7626, 4524, 1765, 5606, 2947, 3300, 3582, 1265, 5503, 6150, 3867, 3681, 3890, 3165, 924, 857, 6514, 4711, 5408, 4707, 4638, 7092, 6150, 2094, 3122, 678, 5562, 6514, 3122, 1830, 3297, 2527, 4638, 2255, 7531, 868, 4158, 2396, 2820, 1606, 855, 2769, 947, 5984, 2336, 1920, 2119, 1993, 5173, 6250, 2965, 5865, 4635, 993, 2255, 3333, 4638, 4636, 1998, 2361, 3307, 1920, 993, 4500, 2769, 947, 2935, 6557, 4638, 3217, 5449, 4289, 6536, 3097, 1920, 4934, 7621, 3658, 4634, 2245, 6803, 3696, 2201, 3511, 100, 868, 4852, 4948, 3513, 2868, 2184, 1872, 3119, 3940, 6887, 1249, 1246, 5232, 2168, 2396, 2820, 1606, 855, 1469, 5984, 2336, 1920, 2119, 2200, 868, 4158, 4635, 993, 2255, 3333, 4294, 5682, 4497, 1501, 4638, 7077, 1545, 712, 2356, 1842, 2396, 2820, 2207, 5175, 5175, 7269, 5984, 2336, 1920, 2119, 6536, 3975, 4472, 1862, 2119, 7368, 7955, 1999, 3292, 6250, 4103, 3633, 5988, 6303, 3087, 2634, 4158, 2396, 1221, 6514, 4711, 2786, 3097, 1920, 4495, 4497, 7492, 1743, 5562, 6514, 3122, 1830, 2768, 3362, 3315, 3613, 3833, 1240, 704, 5984, 2336, 1920, 2119, 1066, 4158, 2296, 7271, 6965, 4374, 2255, 3333, 4635, 993, 2255, 3333, 3742, 7376, 4124, 3333, 2255, 1366, 3333, 4635, 3501, 3978, 3333, 4374, 2421, 3333, 943, 2396, 2820, 3333, 2990, 897, 4747, 1019, 966, 5857, 1039, 4638, 5104, 4934, 1265, 5503, 5023, 3217, 5449, 4495, 4497, 4289, 6536, 2130]\n"
          ],
          "name": "stdout"
        }
      ]
    },
    {
      "cell_type": "code",
      "metadata": {
        "id": "5fNzXRGIUNLy",
        "colab_type": "code",
        "colab": {}
      },
      "source": [
        "#encode every article into token ids and corresponding attention masks that BERT recognizes\n",
        "input_ids = []\n",
        "attention_masks = []\n",
        "for article in head_tail_articles:\n",
        "    encoded_article = tokenizer.encode_plus(article,                      \n",
        "                                       add_special_tokens = True,    # add [CLS] and [SEP]\n",
        "                                       max_length = 512,             # max length of inputs for BERT\n",
        "                                       pad_to_max_length = True,     # pad any inputs of length less than 512 with 0 to keep input size uniform\n",
        "                                       return_attention_mask = True  # tells model which tokens are from the original data and which are just\n",
        "                                       )                             # special tokens or padded words\n",
        "                                          \n",
        "    input_ids.append(encoded_article['input_ids'])\n",
        "    attention_masks.append(encoded_article['attention_mask'])"
      ],
      "execution_count": 0,
      "outputs": []
    },
    {
      "cell_type": "code",
      "metadata": {
        "id": "UnqpwE3Qa4Yd",
        "colab_type": "code",
        "outputId": "7872e054-5827-46dd-e8dc-27b9a578b0a5",
        "colab": {
          "base_uri": "https://localhost:8080/",
          "height": 34
        }
      },
      "source": [
        "print('Max article length: ', max([len(article) for article in input_ids]))"
      ],
      "execution_count": 0,
      "outputs": [
        {
          "output_type": "stream",
          "text": [
            "Max article length:  512\n"
          ],
          "name": "stdout"
        }
      ]
    },
    {
      "cell_type": "markdown",
      "metadata": {
        "id": "ZYh1JqbwZsGY",
        "colab_type": "text"
      },
      "source": [
        "## Vectorization"
      ]
    },
    {
      "cell_type": "code",
      "metadata": {
        "id": "dwLjfZfq52xW",
        "colab_type": "code",
        "colab": {}
      },
      "source": [
        "#turn data into numpy arrays\n",
        "input_ids = np.array(input_ids)\n",
        "attention_masks = np.array(attention_masks)\n",
        "labels = np.array(labels).astype('float32').reshape((-1,1))"
      ],
      "execution_count": 0,
      "outputs": []
    },
    {
      "cell_type": "markdown",
      "metadata": {
        "id": "rThSRxytauB-",
        "colab_type": "text"
      },
      "source": [
        "Notice the array begins with 101 for [CLS], ends with 102 for [SEP], and has 0 for padding in the case that the article length is less than 510 tokens."
      ]
    },
    {
      "cell_type": "code",
      "metadata": {
        "id": "vrArB9f66U0Y",
        "colab_type": "code",
        "outputId": "81aab3c1-2ed0-4ceb-909b-0a66761355ea",
        "colab": {
          "base_uri": "https://localhost:8080/",
          "height": 832
        }
      },
      "source": [
        "input_ids[0]"
      ],
      "execution_count": 0,
      "outputs": [
        {
          "output_type": "execute_result",
          "data": {
            "text/plain": [
              "array([ 101, 4491, 5486, 2398, 3893,  889, 4747, 5439, 4225,  782, 7492,\n",
              "       1743, 5562, 6514, 2768, 3362,  924, 3217, 5449,  704, 3173, 5206,\n",
              "       4491, 5486, 3173, 5472, 3299, 3189, 7442, 3448, 4466, 6716, 7768,\n",
              "       2582, 7938, 3564, 4495, 4497, 4495, 3833, 5375,  763,  784, 7938,\n",
              "       3300, 1567, 4711, 7432,  671, 2137, 6206, 6656, 2769,  947, 6341,\n",
              "       2108, 3217, 3229, 5059, 3706, 3984, 7713, 7360, 2398, 3893, 2356,\n",
              "       2299, 2282, 1281, 2296, 7271, 6965, 4635,  993, 2255, 3333, 3333,\n",
              "       6956, 1920, 7368, 6166, 4638, 2935, 6557, 3833, 1240, 3702, 1752,\n",
              "       1320, 4229, 2428,  679, 3938, 4158, 4674, 2571, 3867, 7370, 3173,\n",
              "       1094, 5511, 4142, 4554, 2658, 2205, 4635,  993, 2255, 3333, 4495,\n",
              "       4497, 4495, 3833, 4638, 2512, 7513, 2396, 1221, 6514, 4711, 2786,\n",
              "       4674, 2571, 7274, 2245, 3217, 5449,  868, 3511, 4158, 4934, 3490,\n",
              "       2786, 5645, 7478, 4934, 3490, 6514, 4711, 2786, 1146, 2491, 4634,\n",
              "       3123, 4747, 3217, 5449, 4289, 6536, 1469, 5101, 7934, 3779, 5023,\n",
              "       4495, 3833, 4500, 1501, 5984, 2336, 1920, 2119, 4638, 2820, 6514,\n",
              "        746, 6956, 6366, 1493, 4638, 4495, 4497, 4495, 3833, 3300, 4747,\n",
              "       2419, 2769,  947,  671, 2137, 1962, 1962, 3018, 7621, 3658, 7526,\n",
              "       1168, 3217, 5449, 4289, 6536, 4638, 4636, 1998,  947,  943,  943,\n",
              "       1599, 5010, 7543, 7274, 4635,  993, 2255, 3333, 7688, 3333, 2396,\n",
              "       2820, 2339,  868, 7386, 7386, 7269, 1076, 5018,  671, 3292, 6250,\n",
              "       4374,  100, 5660,  792, 5171, 6303, 2769,  947, 7688, 3333, 2396,\n",
              "       2820, 2339,  868, 7386, 3418, 3087, 6514, 4711, 2786, 3217, 5449,\n",
              "       4934, 3490, 6243, 1205, 7415,  100, 5195, 6527, 1146, 6981, 2658,\n",
              "       3785, 4158, 6803, 2786, 6554, 6525, 4747, 4373, 5101, 5104, 7471,\n",
              "       6520, 4373, 5101, 5104, 5148, 6486, 5770, 5104, 5730, 5911, 5104,\n",
              "       5935, 7930, 5104, 1377, 4934, 3490, 7934, 4948, 7626, 4524, 1765,\n",
              "       5606, 2947, 3300, 3582, 1265, 5503, 6150, 3867, 3681, 3890, 3165,\n",
              "        924,  857, 6514, 4711, 5408, 4707, 4638, 7092, 6150, 2094, 3122,\n",
              "        678, 5562, 6514, 3122, 1830, 3297, 2527, 4638, 2255, 7531,  868,\n",
              "       4158, 2396, 2820, 1606,  855, 2769,  947, 5984, 2336, 1920, 2119,\n",
              "       1993, 5173, 6250, 2965, 5865, 4635,  993, 2255, 3333, 4638, 4636,\n",
              "       1998, 2361, 3307, 1920,  993, 4500, 2769,  947, 2935, 6557, 4638,\n",
              "       3217, 5449, 4289, 6536, 3097, 1920, 4934, 7621, 3658, 4634, 2245,\n",
              "       6803, 3696, 2201, 3511,  100,  868, 4852, 4948, 3513, 2868, 2184,\n",
              "       1872, 3119, 3940, 6887, 1249, 1246, 5232, 2168, 2396, 2820, 1606,\n",
              "        855, 1469, 5984, 2336, 1920, 2119, 2200,  868, 4158, 4635,  993,\n",
              "       2255, 3333, 4294, 5682, 4497, 1501, 4638, 7077, 1545,  712, 2356,\n",
              "       1842, 2396, 2820, 2207, 5175, 5175, 7269, 5984, 2336, 1920, 2119,\n",
              "       6536, 3975, 4472, 1862, 2119, 7368, 7955, 1999, 3292, 6250, 4103,\n",
              "       3633, 5988, 6303, 3087, 2634, 4158, 2396, 1221, 6514, 4711, 2786,\n",
              "       3097, 1920, 4495, 4497, 7492, 1743, 5562, 6514, 3122, 1830, 2768,\n",
              "       3362, 3315, 3613, 3833, 1240,  704, 5984, 2336, 1920, 2119, 1066,\n",
              "       4158, 2296, 7271, 6965, 4374, 2255, 3333, 4635,  993, 2255, 3333,\n",
              "       3742, 7376, 4124, 3333, 2255, 1366, 3333, 4635, 3501, 3978, 3333,\n",
              "       4374, 2421, 3333,  943, 2396, 2820, 3333, 2990,  897, 4747, 1019,\n",
              "        966, 5857, 1039, 4638, 5104, 4934, 1265, 5503, 5023, 3217, 5449,\n",
              "       4495, 4497, 4289, 6536, 2130,  102])"
            ]
          },
          "metadata": {
            "tags": []
          },
          "execution_count": 31
        }
      ]
    },
    {
      "cell_type": "markdown",
      "metadata": {
        "id": "y6wt0ItDbN7G",
        "colab_type": "text"
      },
      "source": [
        "# Model"
      ]
    },
    {
      "cell_type": "code",
      "metadata": {
        "id": "X20Wr_w4ayIl",
        "colab_type": "code",
        "colab": {}
      },
      "source": [
        "from transformers import TFBertModel"
      ],
      "execution_count": 0,
      "outputs": []
    },
    {
      "cell_type": "code",
      "metadata": {
        "id": "1M2j-GleqZzD",
        "colab_type": "code",
        "outputId": "4b5ee4cf-ce64-4ffe-f1ce-7116f6e310e1",
        "colab": {
          "base_uri": "https://localhost:8080/",
          "height": 115,
          "referenced_widgets": [
            "d2bb75d3c87c42eca7bceae2d4605b04",
            "546998657cd5497986add184899a1bf3",
            "607976679c4040ec93359a991f8cb6bf",
            "24751507b9d942d484484c989dcb991b",
            "40431624b5cb47f7944619dc4b472d89",
            "e34522dc62ca413fb0c532dd2e742b97",
            "6c0bffcd628b4ff28316a7728a68ac3d",
            "b30c94f9a32d40089599b0988195bb7d",
            "ccb2c00bb1c8474487b411391c64e0fe",
            "f4fce6201fbc4905a3636d0bcc0b548a",
            "a967a91c691347699a080c524666c1f4",
            "660903d7ba9f41bc8306c82154e1fa0f",
            "cc7c9f77240a46c3bb4f726fcd9a652c",
            "3454fa5db0e241449e6c342554219d32",
            "43bdd194ba334d90aede527817ced83b",
            "04586721f4eb4513a899b3e1246c034d"
          ]
        }
      },
      "source": [
        "#bert pretrained model for chinese\n",
        "bert_model = TFBertModel.from_pretrained(\"bert-base-chinese\")"
      ],
      "execution_count": 0,
      "outputs": [
        {
          "output_type": "display_data",
          "data": {
            "application/vnd.jupyter.widget-view+json": {
              "model_id": "d2bb75d3c87c42eca7bceae2d4605b04",
              "version_minor": 0,
              "version_major": 2
            },
            "text/plain": [
              "HBox(children=(IntProgress(value=0, description='Downloading', max=624, style=ProgressStyle(description_width=…"
            ]
          },
          "metadata": {
            "tags": []
          }
        },
        {
          "output_type": "stream",
          "text": [
            "\n"
          ],
          "name": "stdout"
        },
        {
          "output_type": "display_data",
          "data": {
            "application/vnd.jupyter.widget-view+json": {
              "model_id": "ccb2c00bb1c8474487b411391c64e0fe",
              "version_minor": 0,
              "version_major": 2
            },
            "text/plain": [
              "HBox(children=(IntProgress(value=0, description='Downloading', max=478309336, style=ProgressStyle(description_…"
            ]
          },
          "metadata": {
            "tags": []
          }
        },
        {
          "output_type": "stream",
          "text": [
            "\n"
          ],
          "name": "stdout"
        }
      ]
    },
    {
      "cell_type": "code",
      "metadata": {
        "id": "QGkBsGoCr9AC",
        "colab_type": "code",
        "outputId": "d12b2d11-fd21-4bfc-dda5-3cd1b928bc2b",
        "colab": {
          "base_uri": "https://localhost:8080/",
          "height": 68
        }
      },
      "source": [
        "#input layers\n",
        "id_in = tf.keras.layers.Input(shape=(512,), name='input', dtype='int32')\n",
        "mask_in = tf.keras.layers.Input(shape=(512,), name='mask', dtype='int32') \n",
        "\n",
        "bert_layer = bert_model(id_in, attention_mask=mask_in)[0]\n",
        "lstm = tf.keras.layers.Bidirectional(tf.keras.layers.LSTM(128, return_sequences=True, recurrent_dropout=0.3))(bert_layer)\n",
        "#bert model has two outputs, a 3d vector for question answering and a 1d vector for classification\n",
        "#the 1d maxpool below selects the output with the needed 1d vector for this problem\n",
        "maxpool = tf.keras.layers.GlobalMaxPool1D()(lstm)\n",
        "dense = tf.keras.layers.Dense(50, activation='relu')(maxpool)\n",
        "#generous usage of dropout to combat overfitting on limited data w/ large architecture model\n",
        "dropout = tf.keras.layers.Dropout(0.3)(dense)\n",
        "output = tf.keras.layers.Dense(1, activation='sigmoid')(dropout)\n",
        "model = tf.keras.Model(inputs=[id_in, mask_in], outputs = output)\n",
        "\n",
        "#freeze the weights of the bert pretrained model and the two input layers\n",
        "for layer in model.layers[:3]:\n",
        "  layer.trainable = False"
      ],
      "execution_count": 0,
      "outputs": [
        {
          "output_type": "stream",
          "text": [
            "WARNING:tensorflow:Layer lstm will not use cuDNN kernel since it doesn't meet the cuDNN kernel criteria. It will use generic GPU kernel as fallback when running on GPU\n",
            "WARNING:tensorflow:Layer lstm will not use cuDNN kernel since it doesn't meet the cuDNN kernel criteria. It will use generic GPU kernel as fallback when running on GPU\n",
            "WARNING:tensorflow:Layer lstm will not use cuDNN kernel since it doesn't meet the cuDNN kernel criteria. It will use generic GPU kernel as fallback when running on GPU\n"
          ],
          "name": "stdout"
        }
      ]
    },
    {
      "cell_type": "markdown",
      "metadata": {
        "id": "7AcylxlgqUUx",
        "colab_type": "text"
      },
      "source": [
        "Notice below that the BERT layer is not a recognized tensorflow keras layer. Due to this, our model becomes a subclassed model, different from both sequential and functional models. This model architecture creates some limitations as our model is not serializable by Keras; we cannot save the entire model or export it to tensorflow.js."
      ]
    },
    {
      "cell_type": "code",
      "metadata": {
        "id": "yKM9SS3wi9zc",
        "colab_type": "code",
        "outputId": "546778df-fcef-415f-c34f-1b9c1d409128",
        "colab": {
          "base_uri": "https://localhost:8080/",
          "height": 153
        }
      },
      "source": [
        "model.layers"
      ],
      "execution_count": 0,
      "outputs": [
        {
          "output_type": "execute_result",
          "data": {
            "text/plain": [
              "[<tensorflow.python.keras.engine.input_layer.InputLayer at 0x7f64fb2e1ba8>,\n",
              " <tensorflow.python.keras.engine.input_layer.InputLayer at 0x7f64fb284ac8>,\n",
              " <transformers.modeling_tf_bert.TFBertModel at 0x7f667beef9e8>,\n",
              " <tensorflow.python.keras.layers.wrappers.Bidirectional at 0x7f64fabbe0f0>,\n",
              " <tensorflow.python.keras.layers.pooling.GlobalMaxPooling1D at 0x7f64fabc63c8>,\n",
              " <tensorflow.python.keras.layers.core.Dense at 0x7f64fabbe128>,\n",
              " <tensorflow.python.keras.layers.core.Dropout at 0x7f64faa3bbe0>,\n",
              " <tensorflow.python.keras.layers.core.Dense at 0x7f64faa3bc18>]"
            ]
          },
          "metadata": {
            "tags": []
          },
          "execution_count": 53
        }
      ]
    },
    {
      "cell_type": "code",
      "metadata": {
        "id": "nVVH8pwIs3RK",
        "colab_type": "code",
        "outputId": "6a125a18-bbd5-4722-aa8e-b1ee0e30d3ce",
        "colab": {
          "base_uri": "https://localhost:8080/",
          "height": 425
        }
      },
      "source": [
        "model.summary()"
      ],
      "execution_count": 0,
      "outputs": [
        {
          "output_type": "stream",
          "text": [
            "Model: \"model\"\n",
            "__________________________________________________________________________________________________\n",
            "Layer (type)                    Output Shape         Param #     Connected to                     \n",
            "==================================================================================================\n",
            "input (InputLayer)              [(None, 512)]        0                                            \n",
            "__________________________________________________________________________________________________\n",
            "mask (InputLayer)               [(None, 512)]        0                                            \n",
            "__________________________________________________________________________________________________\n",
            "tf_bert_model (TFBertModel)     ((None, 512, 768), ( 102267648   input[0][0]                      \n",
            "__________________________________________________________________________________________________\n",
            "bidirectional (Bidirectional)   (None, 512, 256)     918528      tf_bert_model[0][0]              \n",
            "__________________________________________________________________________________________________\n",
            "global_max_pooling1d (GlobalMax (None, 256)          0           bidirectional[0][0]              \n",
            "__________________________________________________________________________________________________\n",
            "dense (Dense)                   (None, 50)           12850       global_max_pooling1d[0][0]       \n",
            "__________________________________________________________________________________________________\n",
            "dropout_37 (Dropout)            (None, 50)           0           dense[0][0]                      \n",
            "__________________________________________________________________________________________________\n",
            "dense_1 (Dense)                 (None, 1)            51          dropout_37[0][0]                 \n",
            "==================================================================================================\n",
            "Total params: 103,199,077\n",
            "Trainable params: 931,429\n",
            "Non-trainable params: 102,267,648\n",
            "__________________________________________________________________________________________________\n"
          ],
          "name": "stdout"
        }
      ]
    },
    {
      "cell_type": "code",
      "metadata": {
        "id": "MzT73NyQtqex",
        "colab_type": "code",
        "colab": {}
      },
      "source": [
        "#using the learning rate recommended in the google bert repo\n",
        "rms = tf.keras.optimizers.RMSprop(learning_rate = 5e-5)\n",
        "model.compile(optimizer = rms,\n",
        "              loss = \"binary_crossentropy\",\n",
        "              metrics = [\"acc\"])"
      ],
      "execution_count": 0,
      "outputs": []
    },
    {
      "cell_type": "code",
      "metadata": {
        "id": "Q_s40tprDWEW",
        "colab_type": "code",
        "colab": {}
      },
      "source": [
        "#because this is a subclassed model, we can only save model weights, we cannot save the entire model\n",
        "fp = '/content/drive/My Drive/Chinese Text Classifier/model.hdf5'\n",
        "save_model = tf.keras.callbacks.ModelCheckpoint(filepath = fp, monitor='val_loss', save_best_only = True, save_weights_only = True, verbose = 1)"
      ],
      "execution_count": 0,
      "outputs": []
    },
    {
      "cell_type": "code",
      "metadata": {
        "id": "zARWpgHUtwhi",
        "colab_type": "code",
        "outputId": "37b4ea56-ff1c-48d0-daa8-52e2c8a4e85e",
        "colab": {
          "base_uri": "https://localhost:8080/",
          "height": 289
        }
      },
      "source": [
        "#trained for 4 epochs, as recommended in the google bert repo\n",
        "history = model.fit([input_ids,attention_masks], labels,\n",
        "                    epochs = 4,\n",
        "                    batch_size = 64,\n",
        "                    validation_split = 0.2,\n",
        "                    callbacks = [save_model])"
      ],
      "execution_count": 0,
      "outputs": [
        {
          "output_type": "stream",
          "text": [
            "Epoch 1/4\n",
            "49/49 [==============================] - ETA: 0s - loss: 0.6152 - acc: 0.6901\n",
            "Epoch 00001: val_loss improved from inf to 0.47217, saving model to /content/drive/My Drive/Chinese Text Classifier/model.hdf5\n",
            "49/49 [==============================] - 372s 8s/step - loss: 0.6152 - acc: 0.6901 - val_loss: 0.4722 - val_acc: 0.9560\n",
            "Epoch 2/4\n",
            "49/49 [==============================] - ETA: 0s - loss: 0.4115 - acc: 0.9252\n",
            "Epoch 00002: val_loss improved from 0.47217 to 0.27293, saving model to /content/drive/My Drive/Chinese Text Classifier/model.hdf5\n",
            "49/49 [==============================] - 375s 8s/step - loss: 0.4115 - acc: 0.9252 - val_loss: 0.2729 - val_acc: 0.9909\n",
            "Epoch 3/4\n",
            "49/49 [==============================] - ETA: 0s - loss: 0.2314 - acc: 0.9744\n",
            "Epoch 00003: val_loss improved from 0.27293 to 0.12725, saving model to /content/drive/My Drive/Chinese Text Classifier/model.hdf5\n",
            "49/49 [==============================] - 370s 8s/step - loss: 0.2314 - acc: 0.9744 - val_loss: 0.1273 - val_acc: 0.9922\n",
            "Epoch 4/4\n",
            "49/49 [==============================] - ETA: 0s - loss: 0.1161 - acc: 0.9874\n",
            "Epoch 00004: val_loss improved from 0.12725 to 0.06156, saving model to /content/drive/My Drive/Chinese Text Classifier/model.hdf5\n",
            "49/49 [==============================] - 373s 8s/step - loss: 0.1161 - acc: 0.9874 - val_loss: 0.0616 - val_acc: 0.9909\n"
          ],
          "name": "stdout"
        }
      ]
    },
    {
      "cell_type": "markdown",
      "metadata": {
        "id": "B3M_2ib90BZK",
        "colab_type": "text"
      },
      "source": [
        "Notice that the validation accuracy is higher than the training accuracy. This is likely due to the generous amount of dropout used in the model. This is because when testing on the validation set, the model is able to make use of all the weights that were initially set to zero during training."
      ]
    },
    {
      "cell_type": "code",
      "metadata": {
        "id": "nB42faR4JLMN",
        "colab_type": "code",
        "outputId": "8a58f38e-fd65-44cd-96f1-d8f5f4b87fef",
        "colab": {
          "base_uri": "https://localhost:8080/",
          "height": 545
        }
      },
      "source": [
        "acc = history.history['acc']\n",
        "val_acc = history.history['val_acc']\n",
        "loss = history.history['loss']\n",
        "val_loss = history.history['val_loss']\n",
        "\n",
        "epochs = range(1, len(acc) + 1)\n",
        "\n",
        "plt.plot(epochs, acc, 'bo', label='Training acc')\n",
        "plt.plot(epochs, val_acc, 'b', label='Validation acc')\n",
        "plt.title('Training and validation accuracy')\n",
        "plt.legend()\n",
        "\n",
        "plt.figure()\n",
        "\n",
        "plt.plot(epochs, loss, 'bo', label='Training loss')\n",
        "plt.plot(epochs, val_loss, 'b', label='Validation loss')\n",
        "plt.title('Training and validation loss')\n",
        "plt.legend()\n",
        "\n",
        "plt.show()"
      ],
      "execution_count": 0,
      "outputs": [
        {
          "output_type": "display_data",
          "data": {
            "image/png": "[encoded data removed]",
            "text/plain": [
              "<Figure size 432x288 with 1 Axes>"
            ]
          },
          "metadata": {
            "tags": [],
            "needs_background": "light"
          }
        },
        {
          "output_type": "display_data",
          "data": {
            "image/png": "[encoded data removed]",
            "text/plain": [
              "<Figure size 432x288 with 1 Axes>"
            ]
          },
          "metadata": {
            "tags": [],
            "needs_background": "light"
          }
        }
      ]
    },
    {
      "cell_type": "markdown",
      "metadata": {
        "id": "apzSkU4tDsWV",
        "colab_type": "text"
      },
      "source": [
        "# Prediction"
      ]
    },
    {
      "cell_type": "code",
      "metadata": {
        "id": "Iu9LtOp1JZnL",
        "colab_type": "code",
        "outputId": "aad63e87-88ec-40c4-9f6c-9cce3e9f8291",
        "colab": {
          "base_uri": "https://localhost:8080/",
          "height": 68
        }
      },
      "source": [
        "#general imports for preprocessing\n",
        "ipydeps.pip(\"hanziconv\")\n",
        "from hanziconv import HanziConv\n",
        "import re\n",
        "from transformers import BertTokenizer, TFBertModel"
      ],
      "execution_count": 0,
      "outputs": [
        {
          "output_type": "display_data",
          "data": {
            "text/html": [
              "<div style=\"font-family:monospace;background:#eee;color:black\"><pre>Running pip to install hanziconv</pre></div>"
            ],
            "text/plain": [
              "<IPython.core.display.HTML object>"
            ]
          },
          "metadata": {
            "tags": []
          }
        },
        {
          "output_type": "display_data",
          "data": {
            "text/html": [
              "<div style=\"font-family:monospace;background:#e6fee6;color:black\"><pre>New packages installed: hanziconv</pre></div>"
            ],
            "text/plain": [
              "<IPython.core.display.HTML object>"
            ]
          },
          "metadata": {
            "tags": []
          }
        },
        {
          "output_type": "display_data",
          "data": {
            "text/html": [
              "<div style=\"font-family:monospace;background:#eee;color:black\"><pre>Done</pre></div>"
            ],
            "text/plain": [
              "<IPython.core.display.HTML object>"
            ]
          },
          "metadata": {
            "tags": []
          }
        }
      ]
    },
    {
      "cell_type": "code",
      "metadata": {
        "id": "M9RIBrQ3Adxr",
        "colab_type": "code",
        "outputId": "a43cd7ba-3043-4c38-8e8d-0ac83f922b30",
        "colab": {
          "base_uri": "https://localhost:8080/",
          "height": 68
        }
      },
      "source": [
        "#recreation of model to plug in saved model weights\n",
        "bert_model = TFBertModel.from_pretrained(\"bert-base-chinese\")\n",
        "id_in = tf.keras.layers.Input(shape=(512,), name='input', dtype='int32')\n",
        "mask_in = tf.keras.layers.Input(shape=(512,), name='mask', dtype='int32') \n",
        "\n",
        "embedding_layer = bert_model(id_in, attention_mask=mask_in)[0]\n",
        "lstm = tf.keras.layers.Bidirectional(tf.keras.layers.LSTM(128, return_sequences=True, dropout=0.3, recurrent_dropout=0.3))(embedding_layer)\n",
        "maxpool = tf.keras.layers.GlobalMaxPool1D()(lstm)\n",
        "dense = tf.keras.layers.Dense(50, activation='relu')(maxpool)\n",
        "dropout = tf.keras.layers.Dropout(0.3)(dense)\n",
        "output = tf.keras.layers.Dense(1, activation='sigmoid')(dropout)\n",
        "final_model = tf.keras.Model(inputs=[id_in, mask_in], outputs = output)\n",
        "\n",
        "for layer in final_model.layers[:3]:\n",
        "  layer.trainable = False"
      ],
      "execution_count": 0,
      "outputs": [
        {
          "output_type": "stream",
          "text": [
            "WARNING:tensorflow:Layer lstm_1 will not use cuDNN kernel since it doesn't meet the cuDNN kernel criteria. It will use generic GPU kernel as fallback when running on GPU\n",
            "WARNING:tensorflow:Layer lstm_1 will not use cuDNN kernel since it doesn't meet the cuDNN kernel criteria. It will use generic GPU kernel as fallback when running on GPU\n",
            "WARNING:tensorflow:Layer lstm_1 will not use cuDNN kernel since it doesn't meet the cuDNN kernel criteria. It will use generic GPU kernel as fallback when running on GPU\n"
          ],
          "name": "stdout"
        }
      ]
    },
    {
      "cell_type": "code",
      "metadata": {
        "id": "7sBNyiL5e3DG",
        "colab_type": "code",
        "colab": {}
      },
      "source": [
        "#loading model weights\n",
        "final_model.load_weights('/content/drive/My Drive/Chinese Text Classifier/model.hdf5')"
      ],
      "execution_count": 0,
      "outputs": []
    },
    {
      "cell_type": "code",
      "metadata": {
        "id": "EJ63Rxa6JTGM",
        "colab_type": "code",
        "colab": {}
      },
      "source": [
        "def predict_text(text):\n",
        "  #condensed version of above data preprocessing process\n",
        "  text = ''.join(re.findall(r'[\\u4e00-\\u9fff]+', text))\n",
        "  text = HanziConv.toTraditional(text)\n",
        "  if len(text) > 510:\n",
        "    text = text[:128]+text[-382:]\n",
        "  tokenizer = BertTokenizer.from_pretrained('bert-base-chinese')\n",
        "  encoded_text = tokenizer.encode_plus(text, add_special_tokens = True, max_length = 512, pad_to_max_length = True, return_attention_mask = True)\n",
        "  input_id = encoded_text['input_ids']\n",
        "  attention_mask = encoded_text['attention_mask']\n",
        "  input_id = np.array(input_id)\n",
        "  attention_mask = np.array(attention_mask)\n",
        "  #prediction outputs a numpy array of predictions between 0 (Chinese) and 1 (Taiwanese) for every token in the input text\n",
        "  prediction = final_model.predict([input_id, attention_mask])\n",
        "  original_word_count = 0\n",
        "  original_word_predictions = 0\n",
        "  original_word_predictions_list = []\n",
        "  for i, x in enumerate(input_id):\n",
        "    if x not in [101,102,0]: #if x is not the SEP, CLS, or padding token\n",
        "      original_word_predictions += prediction[i][0]\n",
        "      original_word_predictions_list.append(prediction[i][0])\n",
        "      original_word_count += 1\n",
        "  try:\n",
        "    #returns average of the original word predictions as well as a list containing each separate prediction\n",
        "    return round(original_word_predictions/original_word_count, 2), original_word_predictions_list\n",
        "  except ZeroDivisionError:\n",
        "    #there were no chinese characters in the original text input\n",
        "    print(\"No chinese characters detected\")"
      ],
      "execution_count": 0,
      "outputs": []
    },
    {
      "cell_type": "markdown",
      "metadata": {
        "id": "2q1blNSS3EDG",
        "colab_type": "text"
      },
      "source": [
        "Example of using text as input. \"中華民國\" translates to Republic of China, a subliminal message from China that Taiwan is a part of China. \"台灣\" translates to Taiwan, or what the Taiwanese generally call their country."
      ]
    },
    {
      "cell_type": "code",
      "metadata": {
        "id": "IdUGgvICxyPs",
        "colab_type": "code",
        "outputId": "e4caea97-3ff3-4646-e285-6220ec86ae4b",
        "colab": {
          "base_uri": "https://localhost:8080/",
          "height": 34
        }
      },
      "source": [
        "predict_text(\"中華民國\")"
      ],
      "execution_count": 0,
      "outputs": [
        {
          "output_type": "execute_result",
          "data": {
            "text/plain": [
              "(0.49, [0.5331038, 0.46660906, 0.37698218, 0.6014384])"
            ]
          },
          "metadata": {
            "tags": []
          },
          "execution_count": 84
        }
      ]
    },
    {
      "cell_type": "code",
      "metadata": {
        "id": "i9xFLXA2Ks4m",
        "colab_type": "code",
        "outputId": "7a890e9c-2d0e-452b-d06f-a827b06f882c",
        "colab": {
          "base_uri": "https://localhost:8080/",
          "height": 34
        }
      },
      "source": [
        "predict_text(\"台灣\")"
      ],
      "execution_count": 0,
      "outputs": [
        {
          "output_type": "execute_result",
          "data": {
            "text/plain": [
              "(0.55, [0.5107301, 0.5922171])"
            ]
          },
          "metadata": {
            "tags": []
          },
          "execution_count": 85
        }
      ]
    },
    {
      "cell_type": "code",
      "metadata": {
        "id": "1n0jJrM8ODJf",
        "colab_type": "code",
        "outputId": "d4be525d-3628-49b1-8082-1d36bb4297fe",
        "colab": {
          "base_uri": "https://localhost:8080/",
          "height": 68
        }
      },
      "source": [
        "#general imports for data scraping\n",
        "ipydeps.pip(\"newspaper3k\")\n",
        "import newspaper\n",
        "from newspaper import Article"
      ],
      "execution_count": 0,
      "outputs": [
        {
          "output_type": "display_data",
          "data": {
            "text/html": [
              "<div style=\"font-family:monospace;background:#eee;color:black\"><pre>Running pip to install newspaper3k</pre></div>"
            ],
            "text/plain": [
              "<IPython.core.display.HTML object>"
            ]
          },
          "metadata": {
            "tags": []
          }
        },
        {
          "output_type": "display_data",
          "data": {
            "text/html": [
              "<div style=\"font-family:monospace;background:#e6fee6;color:black\"><pre>New packages installed: cssselect, feedfinder2, feedparser, jieba3k, newspaper3k, requests-file, tinysegmenter, tldextract</pre></div>"
            ],
            "text/plain": [
              "<IPython.core.display.HTML object>"
            ]
          },
          "metadata": {
            "tags": []
          }
        },
        {
          "output_type": "display_data",
          "data": {
            "text/html": [
              "<div style=\"font-family:monospace;background:#eee;color:black\"><pre>Done</pre></div>"
            ],
            "text/plain": [
              "<IPython.core.display.HTML object>"
            ]
          },
          "metadata": {
            "tags": []
          }
        }
      ]
    },
    {
      "cell_type": "code",
      "metadata": {
        "id": "QvFu9j0DN42s",
        "colab_type": "code",
        "colab": {}
      },
      "source": [
        "def predict_from_url(url):\n",
        "  #condensed version of above data scraping process for single article\n",
        "  article = Article(url, language='zh')\n",
        "  try:\n",
        "    article.download()\n",
        "    article.parse()\n",
        "    text = article.text\n",
        "    #call on prediction function above\n",
        "    return predict_text(text)\n",
        "  except:\n",
        "    #url is not recognizable\n",
        "    print(\"Unable to parse\")"
      ],
      "execution_count": 0,
      "outputs": []
    },
    {
      "cell_type": "markdown",
      "metadata": {
        "id": "f8VgnUZs27x8",
        "colab_type": "text"
      },
      "source": [
        "Examples of prediction using website url as input"
      ]
    },
    {
      "cell_type": "code",
      "metadata": {
        "id": "NbvL4vbAbGt8",
        "colab_type": "code",
        "outputId": "a16f431d-4a8c-49d1-ab9e-d828d18bc5a8",
        "colab": {
          "base_uri": "https://localhost:8080/",
          "height": 34
        }
      },
      "source": [
        "predict_from_url('http://www.chinanews.com/gn/2020/05-06/9176210.shtml')[0]"
      ],
      "execution_count": 0,
      "outputs": [
        {
          "output_type": "execute_result",
          "data": {
            "text/plain": [
              "0.51"
            ]
          },
          "metadata": {
            "tags": []
          },
          "execution_count": 26
        }
      ]
    },
    {
      "cell_type": "code",
      "metadata": {
        "id": "OgvfZJG32stl",
        "colab_type": "code",
        "outputId": "68a7d901-093e-4e72-97bf-96771c818976",
        "colab": {
          "base_uri": "https://localhost:8080/",
          "height": 34
        }
      },
      "source": [
        "predict_from_url(\"https://news.ltn.com.tw/news/world/breakingnews/3156226\")[0]"
      ],
      "execution_count": 0,
      "outputs": [
        {
          "output_type": "execute_result",
          "data": {
            "text/plain": [
              "0.52"
            ]
          },
          "metadata": {
            "tags": []
          },
          "execution_count": 25
        }
      ]
    }
  ]
}